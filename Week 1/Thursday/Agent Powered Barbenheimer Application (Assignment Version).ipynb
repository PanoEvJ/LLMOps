{
 "cells": [
  {
   "cell_type": "markdown",
   "metadata": {},
   "source": [
    "# Questioning Barbie and Oppenheimer Through the Use of Agents\n",
    "\n",
    "In the following notebook we will build an application that queries both the Barbie and Oppenheimer movies Wikipedia pages, as well as their reviews. \n",
    "\n",
    "The main focus of this notebook is to showcase a brief introduction to Agents.\n",
    "\n",
    "## Build 🏗️\n",
    "\n",
    "There are 3 main tasks in this notebook:\n",
    "\n",
    "1. Contruct a Barbie retriever\n",
    "2. Construct an Oppenheimer retriever\n",
    "3. Combine the two and allow users to query both resources from a single input through the use of Agents\n",
    "\n",
    "## Ship 🚢\n",
    "\n",
    "Based on Tuesday's session - construct a Chainlit (or Gradio) application that allows users to interface with the application.\n",
    "\n",
    "## Share 🚀\n",
    "\n",
    "Make a social media post about your final application."
   ]
  },
  {
   "cell_type": "markdown",
   "metadata": {},
   "source": [
    "### Dependencies\n",
    "\n",
    "As always, let's start with some dependencies!"
   ]
  },
  {
   "cell_type": "code",
   "execution_count": 1,
   "metadata": {},
   "outputs": [],
   "source": [
    "!pip install -q -U langchain openai"
   ]
  },
  {
   "cell_type": "code",
   "execution_count": 2,
   "metadata": {},
   "outputs": [],
   "source": [
    "import getpass\n",
    "import os\n",
    "openai_api_key = getpass.getpass(\"Enter your OpenAI API Key: \")\n",
    "os.environ[\"OPENAI_API_KEY\"] = openai_api_key"
   ]
  },
  {
   "cell_type": "markdown",
   "metadata": {},
   "source": [
    "### LLM \n",
    "\n",
    "We will be leveraging OpenAI's `gpt-3.5-turbo` throughout the notebook, and we can keep it consistent throughout!"
   ]
  },
  {
   "cell_type": "code",
   "execution_count": 5,
   "metadata": {},
   "outputs": [],
   "source": [
    "from langchain.chat_models import ChatOpenAI\n",
    "llm = ChatOpenAI(model=\"gpt-3.5-turbo\", temperature = 0)"
   ]
  },
  {
   "cell_type": "markdown",
   "metadata": {},
   "source": [
    "### Data Collection and Transformation\n",
    "\n",
    "We'll be leveraging the `WikipediaLoader` tool to collect information from Wikipedia. \n",
    "\n",
    "Be sure to set the `doc_content_chars_max` parameter so that you capture the *entire* Wikipedia article content."
   ]
  },
  {
   "cell_type": "code",
   "execution_count": 6,
   "metadata": {},
   "outputs": [],
   "source": [
    "!pip install -q -U wikipedia"
   ]
  },
  {
   "cell_type": "code",
   "execution_count": 14,
   "metadata": {},
   "outputs": [],
   "source": [
    "from langchain.document_loaders import WikipediaLoader, CSVLoader\n",
    "\n",
    "barbie_wikipedia_docs = WikipediaLoader(\n",
    "    query=\"Barbie (film)\", \n",
    "    load_max_docs= 1, # YOUR CODE HERE, \n",
    "    doc_content_chars_max=10000000 ### YOUR CODE HERE\n",
    "    ).load()\n",
    "\n",
    "barbie_csv_docs = CSVLoader(\n",
    "    file_path= \"./barbie_data/barbie.csv\", ### YOUR CODE HERE, \n",
    "    source_column=\"Review\"   ### YOUR CODE HERE\n",
    "    ).load()"
   ]
  },
  {
   "cell_type": "markdown",
   "metadata": {},
   "source": [
    "Since we'll be using same format source documentation separated by topic, we can save ourselves some extra effort and set up our splitters once. \n",
    "\n",
    "We're going to leverage the `RecursiveCharacterTextSplitter` again, this time paying close attention to the format our Wikipedia articles and reviews are in so we can be sure to chunk them appropritately. \n",
    "\n",
    "> HINT: You can pass a list of separators when you intialize your `RecursiveTextSplitter`! They are acted on in order of element 0 -> element len(list).\n",
    "\n",
    "RELEVANT DOCS:\n",
    "- [`RecursiveCharacterTextSplitter`](https://api.python.langchain.com/en/latest/text_splitter/langchain.text_splitter.RecursiveCharacterTextSplitter.html#langchain.text_splitter.RecursiveCharacterTextSplitter)"
   ]
  },
  {
   "cell_type": "code",
   "execution_count": 15,
   "metadata": {},
   "outputs": [],
   "source": [
    "from langchain.text_splitter import RecursiveCharacterTextSplitter\n",
    "\n",
    "wikipedia_text_splitter = RecursiveCharacterTextSplitter(\n",
    "    chunk_size = 1024,  ### YOUR CODE HERE,\n",
    "    chunk_overlap = 512, ### YOUR CODE HERE,\n",
    "    length_function = len, ### YOUR CODE HERE,\n",
    "    is_separator_regex= False,\n",
    "    separators = [\"\\n==\", \"\\n\", \" \"] ### YOUR CODE HERE # keep headings, then paragraphs, then sentences\n",
    ")\n",
    "\n",
    "csv_text_splitter = RecursiveCharacterTextSplitter(\n",
    "    chunk_size = 1024, ### YOUR CODE HERE,\n",
    "    chunk_overlap = 512, ### YOUR CODE HERE,\n",
    "    length_function = len, ### YOUR CODE HERE,\n",
    "    is_separator_regex= False,\n",
    "    separators = [\"\\n\", \" \"] ### YOUR CODE HERE # keep paragraphs, then sentences\n",
    ")\n",
    "\n",
    "# type(barbie_wikipedia_docs[0])\n",
    "chunked_barbie_wikipedia_docs = wikipedia_text_splitter.transform_documents(barbie_wikipedia_docs) ### YOUR CODE HERE\n",
    "chunked_barbie_csv_docs = csv_text_splitter.transform_documents(barbie_csv_docs) ### YOUR CODE HERE"
   ]
  },
  {
   "cell_type": "markdown",
   "metadata": {},
   "source": [
    "#### Retrieval and Embedding Strategy\n",
    "\n",
    "We've already discussed the useful application of `CacheBackedEmbeddings`, so let's do it again!\n",
    "\n",
    "RELEVANT DOCS:\n",
    "- [`CacheBackedEmbeddings`](https://api.python.langchain.com/en/latest/embeddings/langchain.embeddings.cache.CacheBackedEmbeddings.html#langchain-embeddings-cache-cachebackedembeddings)"
   ]
  },
  {
   "cell_type": "code",
   "execution_count": 16,
   "metadata": {},
   "outputs": [],
   "source": [
    "!pip install -q -U rank_bm25 tiktoken faiss-cpu"
   ]
  },
  {
   "cell_type": "code",
   "execution_count": 17,
   "metadata": {},
   "outputs": [],
   "source": [
    "from langchain.retrievers import BM25Retriever, EnsembleRetriever\n",
    "from langchain.vectorstores import FAISS\n",
    "from langchain.embeddings.openai import OpenAIEmbeddings\n",
    "from langchain.embeddings import CacheBackedEmbeddings\n",
    "from langchain.storage import LocalFileStore\n",
    "\n",
    "# set up cached embeddings store\n",
    "store = LocalFileStore(\"./cache/\") ### YOUR CODE HERE\n",
    "\n",
    "core_embeddings_model = OpenAIEmbeddings() ### YOUR CODE HERE\n",
    "\n",
    "embedder = CacheBackedEmbeddings.from_bytes_store(core_embeddings_model, store, namespace=core_embeddings_model.model) ### YOUR CODE HERE"
   ]
  },
  {
   "cell_type": "markdown",
   "metadata": {},
   "source": [
    "We'll implement a `FAISS` vectorstore, and create a retriever from it."
   ]
  },
  {
   "cell_type": "code",
   "execution_count": 18,
   "metadata": {},
   "outputs": [],
   "source": [
    "barbie_csv_faiss_retriever = FAISS.from_documents(chunked_barbie_csv_docs, embedder) ### YOUR CODE HERE\n"
   ]
  },
  {
   "cell_type": "markdown",
   "metadata": {},
   "source": [
    "There are a number of excellent options to retrieve documents - we'll be looking at an additional example today, which is called the `EnsembleRetriever`.\n",
    "\n",
    "The method this is using is outlined in [this paper](https://plg.uwaterloo.ca/~gvcormac/cormacksigir09-rrf.pdf).\n",
    "\n",
    "The brief explanation is:\n",
    "\n",
    "1. We collect results from two different retrieval methods over the same corpus\n",
    "2. We apply a reranking algorithm to rerank our source documents to be the *most relevant* without losing specific or potentially low-ranked information rich documents\n",
    "3. We feed the top-k results into the LLM with our query as context.\n",
    "\n",
    "> HINT: Your weight list should be of type `List[float]` and the `sum(List[float])` should be `1`."
   ]
  },
  {
   "cell_type": "code",
   "execution_count": 19,
   "metadata": {},
   "outputs": [],
   "source": [
    "# set up BM25 retriever\n",
    "barbie_wikipedia_bm25_retriever = BM25Retriever.from_documents(\n",
    "    chunked_barbie_wikipedia_docs ### YOUR CODE HERE\n",
    ")\n",
    "barbie_wikipedia_bm25_retriever.k = 1\n",
    "\n",
    "# set up FAISS vector store\n",
    "barbie_wikipedia_faiss_store = FAISS.from_documents(\n",
    "    chunked_barbie_wikipedia_docs, ### YOUR CODE HERE,\n",
    "    embedder ### YOUR CODE HERE\n",
    ")\n",
    "barbie_wikipedia_faiss_retriever = barbie_wikipedia_faiss_store.as_retriever(search_kwargs={\"k\": 1})\n",
    "\n",
    "# set up ensemble retriever\n",
    "barbie_ensemble_retriever = EnsembleRetriever(\n",
    "    retrievers=[barbie_wikipedia_bm25_retriever, barbie_wikipedia_faiss_retriever], ### YOUR CODE HERE,\n",
    "    weights= [0.25, 0.75] ### YOUR CODE HERE # should sum to 1\n",
    ")"
   ]
  },
  {
   "cell_type": "markdown",
   "metadata": {},
   "source": [
    "#### Retrieval Agent\n",
    "\n",
    "We can create a simple conversational retrieval Agent by using the built-ins provided by LangChain!\n",
    "\n",
    "> HINT: Be sure to provide good natural language descriptions of what the tool should be used for to get the best results.\n",
    "\n",
    "RELEVANT DOCS:\n",
    "- [`create_retriever_tool`](https://api.python.langchain.com/en/latest/agents/langchain.agents.agent_toolkits.conversational_retrieval.tool.create_retriever_tool.html#langchain.agents.agent_toolkits.conversational_retrieval.tool.create_retriever_tool)"
   ]
  },
  {
   "cell_type": "code",
   "execution_count": 23,
   "metadata": {},
   "outputs": [],
   "source": [
    "from langchain.agents.agent_toolkits import create_retriever_tool\n",
    "\n",
    "barbie_wikipedia_retrieval_tool = create_retriever_tool(\n",
    "    retriever=barbie_ensemble_retriever, ### YOUR CODE HERE \n",
    "    name='Search_Wikipedia', ### YOUR CODE HERE\n",
    "    description='Useful for when you need to answer questions about plot, cast, production, release, music, marketing, reception, themes and analysis of the Barbie movie.' ### YOUR CODE HERE\n",
    ")\n",
    "\n",
    "barbie_csv_retrieval_tool = create_retriever_tool(\n",
    "    retriever=barbie_csv_faiss_retriever.as_retriever(), ### YOUR CODE HERE \n",
    "    name='Search_Reviews', ### YOUR CODE HERE\n",
    "    description='Useful for when you need to answer questions about public reviews of the Barbie movie.'\n",
    ")\n",
    "\n",
    "barbie_retriever_tools = [barbie_wikipedia_retrieval_tool, barbie_csv_retrieval_tool] ### YOUR CODE HERE"
   ]
  },
  {
   "cell_type": "markdown",
   "metadata": {},
   "source": [
    "Now that we've created our tools, we can combined them into an agent!\n",
    "\n",
    "RELEVANT DOCS:\n",
    "- [`create_conversational_retrieval_agent`](https://api.python.langchain.com/en/latest/agents/langchain.agents.agent_toolkits.conversational_retrieval.openai_functions.create_conversational_retrieval_agent.html#langchain.agents.agent_toolkits.conversational_retrieval.openai_functions.create_conversational_retrieval_agent)"
   ]
  },
  {
   "cell_type": "code",
   "execution_count": 24,
   "metadata": {},
   "outputs": [],
   "source": [
    "from langchain.agents.agent_toolkits import create_conversational_retrieval_agent\n",
    "\n",
    "barbie_retriever_agent_executor = create_conversational_retrieval_agent(llm=llm, tools=barbie_retriever_tools, verbose=True) # YOUR CODE HERE"
   ]
  },
  {
   "cell_type": "code",
   "execution_count": 25,
   "metadata": {},
   "outputs": [
    {
     "name": "stdout",
     "output_type": "stream",
     "text": [
      "\n",
      "\n",
      "\u001b[1m> Entering new AgentExecutor chain...\u001b[0m\n",
      "\u001b[32;1m\u001b[1;3m\n",
      "Invoking: `Search_Reviews` with `Barbie`\n",
      "\n",
      "\n",
      "\u001b[0m\u001b[33;1m\u001b[1;3m[Document(page_content=\"utopia in which Barbies serve as presidents, Supreme Court members, doctors, physicists, Nobel prize winners, and cancer cures. The dolls are not structurally different from our world, but they are represented by political fantasy and decade-dependent what-ifs. Barbie has gone to space, could vote, and own property before many human women, and her appearance has changed to mirror society's beauty politics. The representational doll has become an extension of political fantasy, reflecting the beauty politics of society. Gerwig features a cast of Barbies, including Issa Rae, Emma Mackey, Alexandra Shipp, and Hari Nef. Stereotypical Barbie (Margot Robbie) is the protagonist, a blonde-haired, blue-eyed Barbie created by Ruth Handler. Her Ken counterpart, Ryan Gosling, is portrayed with humor and heart. They are a version of Eve and Adam, with their fall being dramatic. Barbie finds her perfect life hampered by existential thoughts and seeks answers from Weird Barbie (Kate McKinnon), a doll with a traumatic\", metadata={'source': \"Greta Gerwig's Barbie explores creation myths in Barbieland, a parallel universe populated by Mattel dolls. The director uses the toy conglomerate's vast archive and successful products as tools to create a rich and weird material. The movie is a clever send-up of Barbie dolls and their legacy, featuring light-hearted jokes that poke fun at Mattel, the doll's lore, and the contradictions of our sexist society. The director's storytelling is impressive, and the film's humor is both lighthearted and chuckle-worthy. Gerwig's Barbieland, created by Sarah Greenwood and Jacqueline Durran, is a pink fever dream with funky compositions by Mark Ronson and Andrew Wyatt, bubblegum anthems by Dua Lipa, Nicki Minaj, and Ice Spice. The film features plastic trees and identical two-story Barbie dream homes, with flying being the preferred mode of transportation. The production design and costuming are exceptional, showcasing Gerwig's passion for details and her ability to create a dreamlike world. Barbieland is a feminist utopia in which Barbies serve as presidents, Supreme Court members, doctors, physicists, Nobel prize winners, and cancer cures. The dolls are not structurally different from our world, but they are represented by political fantasy and decade-dependent what-ifs. Barbie has gone to space, could vote, and own property before many human women, and her appearance has changed to mirror society's beauty politics. The representational doll has become an extension of political fantasy, reflecting the beauty politics of society. Gerwig features a cast of Barbies, including Issa Rae, Emma Mackey, Alexandra Shipp, and Hari Nef. Stereotypical Barbie (Margot Robbie) is the protagonist, a blonde-haired, blue-eyed Barbie created by Ruth Handler. Her Ken counterpart, Ryan Gosling, is portrayed with humor and heart. They are a version of Eve and Adam, with their fall being dramatic. Barbie finds her perfect life hampered by existential thoughts and seeks answers from Weird Barbie (Kate McKinnon), a doll with a traumatic history. Stereotypical Barbie, with Ken, heads to real-world Los Angeles to find her little girl. The relationship between Barbies and their human owners is tenuously outlined, so it's best not to think too deeply about how it all works. Robbie's performance in Gerwig's Barbie highlights the tension between Barbie as an object and subject. Her expressive eyes and physical presence reveal the human world's forces, while her rigid presence in Barbieland suggests she's not less rigid in the real world. Despite the director's skill in capturing deeper themes, the film's ominousness and muddied politics suggest it ultimately serves a brand. The film's ominousness and muddied politics suggest the film serves as a brand. Gerwig's film Barbieland is a mix of fun and emotional depth, with a tension between keeping Barbie entertaining and blending her source material with previous projects. After a detour, Barbie returns home to find Ken's patriarchal knowledge has transformed Barbieland. The screenplay, by Gerwig and Noah Baumbach, avoids familiarity and mockery, but the moments that aren't just funny are buried in important monologues, making the gestures feel politically hollow. The film's mandate is too ambitious, making it feel politically hollow.\", 'row': 110}), Document(page_content=\": 122\\nReview_Date: 30 July 2023\\nAuthor: walfordior\\nRating: 9\\nReview_Title: This is more than just a 'lighthearted comedy'\\nReview: Barbie is no longer just a toy; rather, this idea of 'Barbie' has evolved into one of the most famous and significant topics in the world at this moment in time. It is so much more than merely a toy. It will not longer be just 'a toy'\\nReview_Url: /review/rw9199947/?ref_=tt_urv\", metadata={'source': \"Barbie is no longer just a toy; rather, this idea of 'Barbie' has evolved into one of the most famous and significant topics in the world at this moment in time. It is so much more than merely a toy. It will not longer be just 'a toy'\", 'row': 122}), Document(page_content=': 64\\nReview_Date: 22 July 2023\\nAuthor: fernandoschiavi\\nRating: 5\\nReview_Title: \"Barbie\" is fun and visually beautiful, but unfortunately Barbie doll was dragged into the cultural war, used as a puppet by political militancy', metadata={'source': 'Despite the strong commercial tone, it is still possible to perceive that we are watching a film by Greta Gerwig, director known for dramatic comedies that capture the complexity of femininity in an original way - although, in this case, it is almost inevitable to fall into some clichés. The undeniable feminist tone exists through the presence of this female director - in addition to Margot Robbie herself as a producer. \"Barbie\" has sharp and intelligent comments on the dynamics between men and women over time and also on how these social roles are seen and problematized today. And the film does it with a big heart: the story is genuinely fun, with a humor that walks between acidity and innocence, but also moves with the existential journey of its protagonists, reserving touching moments and provoking reflections, especially in its final stretch. Debauchery is the great ally of Gerwig and Baumbach to deal not only with sexism, but also with the \"corporate\" issue. It won\\'t be strange if you catch yourself thinking \"how did Mattel let this film see the light of day?\" Laughing at yourself, after all, seems to be a prerequisite for establishing communication with a young generation of consumers who associate their consumption habits with a critical eye on consumerism itself.', 'row': 64}), Document(page_content=\": 39\\nReview_Date: 23 July 2023\\nAuthor: Anurag-Shetty\\nRating: 10\\nReview_Title: A wholesome delight!\\nReview: Barbie is based on Mattel's iconic plastic dolls of the same name. Barbie(Margot Robbie) lives a very happy life in Barbie Land, along with her fellow Barbies, Ken(Ryan Gosling) & his fellow Kens. Suddenly, Barbie goes through an existential crisis that makes her question Barbie Land & the truth of her existence.\\nReview_Url: /review/rw9199947/?ref_=tt_urv\", metadata={'source': \"Barbie is based on Mattel's iconic plastic dolls of the same name. Barbie(Margot Robbie) lives a very happy life in Barbie Land, along with her fellow Barbies, Ken(Ryan Gosling) & his fellow Kens. Suddenly, Barbie goes through an existential crisis that makes her question Barbie Land & the truth of her existence.\", 'row': 39})]\u001b[0m\u001b[32;1m\u001b[1;3mThe reviews for Barbie are mixed. Some people enjoyed the movie and found it to be more than just a lighthearted comedy. They appreciated the film's clever send-up of Barbie dolls and their legacy, as well as its sharp and intelligent comments on the dynamics between men and women over time. These viewers found the movie to be a wholesome delight, with a mix of fun and emotional depth.\n",
      "\n",
      "On the other hand, there are also reviews that mention the movie's philosophical elements. Barbie goes through an existential crisis in the film, questioning Barbie Land and the truth of her existence. The movie explores creation myths in Barbieland, a parallel universe populated by Mattel dolls. It delves into deeper themes and provokes reflections, especially in its final stretch. However, some reviewers felt that the film's ominousness and muddied politics ultimately served as a brand and made the political gestures feel politically hollow.\n",
      "\n",
      "Overall, it seems that Barbie incorporates philosophical elements into its storytelling, but the reception to these elements varies among viewers.\u001b[0m\n",
      "\n",
      "\u001b[1m> Finished chain.\u001b[0m\n"
     ]
    },
    {
     "data": {
      "text/plain": [
       "{'input': 'Did people like Barbie, or did they find it too Philosphical? If they did, can you tell me why the movie is so Philosophical?',\n",
       " 'chat_history': [HumanMessage(content='Did people like Barbie, or did they find it too Philosphical? If they did, can you tell me why the movie is so Philosophical?', additional_kwargs={}, example=False),\n",
       "  AIMessage(content='', additional_kwargs={'function_call': {'name': 'Search_Reviews', 'arguments': '{\\n  \"__arg1\": \"Barbie\"\\n}'}}, example=False),\n",
       "  FunctionMessage(content='[Document(page_content=\"utopia in which Barbies serve as presidents, Supreme Court members, doctors, physicists, Nobel prize winners, and cancer cures. The dolls are not structurally different from our world, but they are represented by political fantasy and decade-dependent what-ifs. Barbie has gone to space, could vote, and own property before many human women, and her appearance has changed to mirror society\\'s beauty politics. The representational doll has become an extension of political fantasy, reflecting the beauty politics of society. Gerwig features a cast of Barbies, including Issa Rae, Emma Mackey, Alexandra Shipp, and Hari Nef. Stereotypical Barbie (Margot Robbie) is the protagonist, a blonde-haired, blue-eyed Barbie created by Ruth Handler. Her Ken counterpart, Ryan Gosling, is portrayed with humor and heart. They are a version of Eve and Adam, with their fall being dramatic. Barbie finds her perfect life hampered by existential thoughts and seeks answers from Weird Barbie (Kate McKinnon), a doll with a traumatic\", metadata={\\'source\\': \"Greta Gerwig\\'s Barbie explores creation myths in Barbieland, a parallel universe populated by Mattel dolls. The director uses the toy conglomerate\\'s vast archive and successful products as tools to create a rich and weird material. The movie is a clever send-up of Barbie dolls and their legacy, featuring light-hearted jokes that poke fun at Mattel, the doll\\'s lore, and the contradictions of our sexist society. The director\\'s storytelling is impressive, and the film\\'s humor is both lighthearted and chuckle-worthy. Gerwig\\'s Barbieland, created by Sarah Greenwood and Jacqueline Durran, is a pink fever dream with funky compositions by Mark Ronson and Andrew Wyatt, bubblegum anthems by Dua Lipa, Nicki Minaj, and Ice Spice. The film features plastic trees and identical two-story Barbie dream homes, with flying being the preferred mode of transportation. The production design and costuming are exceptional, showcasing Gerwig\\'s passion for details and her ability to create a dreamlike world. Barbieland is a feminist utopia in which Barbies serve as presidents, Supreme Court members, doctors, physicists, Nobel prize winners, and cancer cures. The dolls are not structurally different from our world, but they are represented by political fantasy and decade-dependent what-ifs. Barbie has gone to space, could vote, and own property before many human women, and her appearance has changed to mirror society\\'s beauty politics. The representational doll has become an extension of political fantasy, reflecting the beauty politics of society. Gerwig features a cast of Barbies, including Issa Rae, Emma Mackey, Alexandra Shipp, and Hari Nef. Stereotypical Barbie (Margot Robbie) is the protagonist, a blonde-haired, blue-eyed Barbie created by Ruth Handler. Her Ken counterpart, Ryan Gosling, is portrayed with humor and heart. They are a version of Eve and Adam, with their fall being dramatic. Barbie finds her perfect life hampered by existential thoughts and seeks answers from Weird Barbie (Kate McKinnon), a doll with a traumatic history. Stereotypical Barbie, with Ken, heads to real-world Los Angeles to find her little girl. The relationship between Barbies and their human owners is tenuously outlined, so it\\'s best not to think too deeply about how it all works. Robbie\\'s performance in Gerwig\\'s Barbie highlights the tension between Barbie as an object and subject. Her expressive eyes and physical presence reveal the human world\\'s forces, while her rigid presence in Barbieland suggests she\\'s not less rigid in the real world. Despite the director\\'s skill in capturing deeper themes, the film\\'s ominousness and muddied politics suggest it ultimately serves a brand. The film\\'s ominousness and muddied politics suggest the film serves as a brand. Gerwig\\'s film Barbieland is a mix of fun and emotional depth, with a tension between keeping Barbie entertaining and blending her source material with previous projects. After a detour, Barbie returns home to find Ken\\'s patriarchal knowledge has transformed Barbieland. The screenplay, by Gerwig and Noah Baumbach, avoids familiarity and mockery, but the moments that aren\\'t just funny are buried in important monologues, making the gestures feel politically hollow. The film\\'s mandate is too ambitious, making it feel politically hollow.\", \\'row\\': 110}), Document(page_content=\": 122\\\\nReview_Date: 30 July 2023\\\\nAuthor: walfordior\\\\nRating: 9\\\\nReview_Title: This is more than just a \\'lighthearted comedy\\'\\\\nReview: Barbie is no longer just a toy; rather, this idea of \\'Barbie\\' has evolved into one of the most famous and significant topics in the world at this moment in time. It is so much more than merely a toy. It will not longer be just \\'a toy\\'\\\\nReview_Url: /review/rw9199947/?ref_=tt_urv\", metadata={\\'source\\': \"Barbie is no longer just a toy; rather, this idea of \\'Barbie\\' has evolved into one of the most famous and significant topics in the world at this moment in time. It is so much more than merely a toy. It will not longer be just \\'a toy\\'\", \\'row\\': 122}), Document(page_content=\\': 64\\\\nReview_Date: 22 July 2023\\\\nAuthor: fernandoschiavi\\\\nRating: 5\\\\nReview_Title: \"Barbie\" is fun and visually beautiful, but unfortunately Barbie doll was dragged into the cultural war, used as a puppet by political militancy\\', metadata={\\'source\\': \\'Despite the strong commercial tone, it is still possible to perceive that we are watching a film by Greta Gerwig, director known for dramatic comedies that capture the complexity of femininity in an original way - although, in this case, it is almost inevitable to fall into some clichés. The undeniable feminist tone exists through the presence of this female director - in addition to Margot Robbie herself as a producer. \"Barbie\" has sharp and intelligent comments on the dynamics between men and women over time and also on how these social roles are seen and problematized today. And the film does it with a big heart: the story is genuinely fun, with a humor that walks between acidity and innocence, but also moves with the existential journey of its protagonists, reserving touching moments and provoking reflections, especially in its final stretch. Debauchery is the great ally of Gerwig and Baumbach to deal not only with sexism, but also with the \"corporate\" issue. It won\\\\\\'t be strange if you catch yourself thinking \"how did Mattel let this film see the light of day?\" Laughing at yourself, after all, seems to be a prerequisite for establishing communication with a young generation of consumers who associate their consumption habits with a critical eye on consumerism itself.\\', \\'row\\': 64}), Document(page_content=\": 39\\\\nReview_Date: 23 July 2023\\\\nAuthor: Anurag-Shetty\\\\nRating: 10\\\\nReview_Title: A wholesome delight!\\\\nReview: Barbie is based on Mattel\\'s iconic plastic dolls of the same name. Barbie(Margot Robbie) lives a very happy life in Barbie Land, along with her fellow Barbies, Ken(Ryan Gosling) & his fellow Kens. Suddenly, Barbie goes through an existential crisis that makes her question Barbie Land & the truth of her existence.\\\\nReview_Url: /review/rw9199947/?ref_=tt_urv\", metadata={\\'source\\': \"Barbie is based on Mattel\\'s iconic plastic dolls of the same name. Barbie(Margot Robbie) lives a very happy life in Barbie Land, along with her fellow Barbies, Ken(Ryan Gosling) & his fellow Kens. Suddenly, Barbie goes through an existential crisis that makes her question Barbie Land & the truth of her existence.\", \\'row\\': 39})]', additional_kwargs={}, name='Search_Reviews'),\n",
       "  AIMessage(content=\"The reviews for Barbie are mixed. Some people enjoyed the movie and found it to be more than just a lighthearted comedy. They appreciated the film's clever send-up of Barbie dolls and their legacy, as well as its sharp and intelligent comments on the dynamics between men and women over time. These viewers found the movie to be a wholesome delight, with a mix of fun and emotional depth.\\n\\nOn the other hand, there are also reviews that mention the movie's philosophical elements. Barbie goes through an existential crisis in the film, questioning Barbie Land and the truth of her existence. The movie explores creation myths in Barbieland, a parallel universe populated by Mattel dolls. It delves into deeper themes and provokes reflections, especially in its final stretch. However, some reviewers felt that the film's ominousness and muddied politics ultimately served as a brand and made the political gestures feel politically hollow.\\n\\nOverall, it seems that Barbie incorporates philosophical elements into its storytelling, but the reception to these elements varies among viewers.\", additional_kwargs={}, example=False)],\n",
       " 'output': \"The reviews for Barbie are mixed. Some people enjoyed the movie and found it to be more than just a lighthearted comedy. They appreciated the film's clever send-up of Barbie dolls and their legacy, as well as its sharp and intelligent comments on the dynamics between men and women over time. These viewers found the movie to be a wholesome delight, with a mix of fun and emotional depth.\\n\\nOn the other hand, there are also reviews that mention the movie's philosophical elements. Barbie goes through an existential crisis in the film, questioning Barbie Land and the truth of her existence. The movie explores creation myths in Barbieland, a parallel universe populated by Mattel dolls. It delves into deeper themes and provokes reflections, especially in its final stretch. However, some reviewers felt that the film's ominousness and muddied politics ultimately served as a brand and made the political gestures feel politically hollow.\\n\\nOverall, it seems that Barbie incorporates philosophical elements into its storytelling, but the reception to these elements varies among viewers.\",\n",
       " 'intermediate_steps': [(_FunctionsAgentAction(tool='Search_Reviews', tool_input='Barbie', log='\\nInvoking: `Search_Reviews` with `Barbie`\\n\\n\\n', message_log=[AIMessage(content='', additional_kwargs={'function_call': {'name': 'Search_Reviews', 'arguments': '{\\n  \"__arg1\": \"Barbie\"\\n}'}}, example=False)]),\n",
       "   [Document(page_content=\"utopia in which Barbies serve as presidents, Supreme Court members, doctors, physicists, Nobel prize winners, and cancer cures. The dolls are not structurally different from our world, but they are represented by political fantasy and decade-dependent what-ifs. Barbie has gone to space, could vote, and own property before many human women, and her appearance has changed to mirror society's beauty politics. The representational doll has become an extension of political fantasy, reflecting the beauty politics of society. Gerwig features a cast of Barbies, including Issa Rae, Emma Mackey, Alexandra Shipp, and Hari Nef. Stereotypical Barbie (Margot Robbie) is the protagonist, a blonde-haired, blue-eyed Barbie created by Ruth Handler. Her Ken counterpart, Ryan Gosling, is portrayed with humor and heart. They are a version of Eve and Adam, with their fall being dramatic. Barbie finds her perfect life hampered by existential thoughts and seeks answers from Weird Barbie (Kate McKinnon), a doll with a traumatic\", metadata={'source': \"Greta Gerwig's Barbie explores creation myths in Barbieland, a parallel universe populated by Mattel dolls. The director uses the toy conglomerate's vast archive and successful products as tools to create a rich and weird material. The movie is a clever send-up of Barbie dolls and their legacy, featuring light-hearted jokes that poke fun at Mattel, the doll's lore, and the contradictions of our sexist society. The director's storytelling is impressive, and the film's humor is both lighthearted and chuckle-worthy. Gerwig's Barbieland, created by Sarah Greenwood and Jacqueline Durran, is a pink fever dream with funky compositions by Mark Ronson and Andrew Wyatt, bubblegum anthems by Dua Lipa, Nicki Minaj, and Ice Spice. The film features plastic trees and identical two-story Barbie dream homes, with flying being the preferred mode of transportation. The production design and costuming are exceptional, showcasing Gerwig's passion for details and her ability to create a dreamlike world. Barbieland is a feminist utopia in which Barbies serve as presidents, Supreme Court members, doctors, physicists, Nobel prize winners, and cancer cures. The dolls are not structurally different from our world, but they are represented by political fantasy and decade-dependent what-ifs. Barbie has gone to space, could vote, and own property before many human women, and her appearance has changed to mirror society's beauty politics. The representational doll has become an extension of political fantasy, reflecting the beauty politics of society. Gerwig features a cast of Barbies, including Issa Rae, Emma Mackey, Alexandra Shipp, and Hari Nef. Stereotypical Barbie (Margot Robbie) is the protagonist, a blonde-haired, blue-eyed Barbie created by Ruth Handler. Her Ken counterpart, Ryan Gosling, is portrayed with humor and heart. They are a version of Eve and Adam, with their fall being dramatic. Barbie finds her perfect life hampered by existential thoughts and seeks answers from Weird Barbie (Kate McKinnon), a doll with a traumatic history. Stereotypical Barbie, with Ken, heads to real-world Los Angeles to find her little girl. The relationship between Barbies and their human owners is tenuously outlined, so it's best not to think too deeply about how it all works. Robbie's performance in Gerwig's Barbie highlights the tension between Barbie as an object and subject. Her expressive eyes and physical presence reveal the human world's forces, while her rigid presence in Barbieland suggests she's not less rigid in the real world. Despite the director's skill in capturing deeper themes, the film's ominousness and muddied politics suggest it ultimately serves a brand. The film's ominousness and muddied politics suggest the film serves as a brand. Gerwig's film Barbieland is a mix of fun and emotional depth, with a tension between keeping Barbie entertaining and blending her source material with previous projects. After a detour, Barbie returns home to find Ken's patriarchal knowledge has transformed Barbieland. The screenplay, by Gerwig and Noah Baumbach, avoids familiarity and mockery, but the moments that aren't just funny are buried in important monologues, making the gestures feel politically hollow. The film's mandate is too ambitious, making it feel politically hollow.\", 'row': 110}),\n",
       "    Document(page_content=\": 122\\nReview_Date: 30 July 2023\\nAuthor: walfordior\\nRating: 9\\nReview_Title: This is more than just a 'lighthearted comedy'\\nReview: Barbie is no longer just a toy; rather, this idea of 'Barbie' has evolved into one of the most famous and significant topics in the world at this moment in time. It is so much more than merely a toy. It will not longer be just 'a toy'\\nReview_Url: /review/rw9199947/?ref_=tt_urv\", metadata={'source': \"Barbie is no longer just a toy; rather, this idea of 'Barbie' has evolved into one of the most famous and significant topics in the world at this moment in time. It is so much more than merely a toy. It will not longer be just 'a toy'\", 'row': 122}),\n",
       "    Document(page_content=': 64\\nReview_Date: 22 July 2023\\nAuthor: fernandoschiavi\\nRating: 5\\nReview_Title: \"Barbie\" is fun and visually beautiful, but unfortunately Barbie doll was dragged into the cultural war, used as a puppet by political militancy', metadata={'source': 'Despite the strong commercial tone, it is still possible to perceive that we are watching a film by Greta Gerwig, director known for dramatic comedies that capture the complexity of femininity in an original way - although, in this case, it is almost inevitable to fall into some clichés. The undeniable feminist tone exists through the presence of this female director - in addition to Margot Robbie herself as a producer. \"Barbie\" has sharp and intelligent comments on the dynamics between men and women over time and also on how these social roles are seen and problematized today. And the film does it with a big heart: the story is genuinely fun, with a humor that walks between acidity and innocence, but also moves with the existential journey of its protagonists, reserving touching moments and provoking reflections, especially in its final stretch. Debauchery is the great ally of Gerwig and Baumbach to deal not only with sexism, but also with the \"corporate\" issue. It won\\'t be strange if you catch yourself thinking \"how did Mattel let this film see the light of day?\" Laughing at yourself, after all, seems to be a prerequisite for establishing communication with a young generation of consumers who associate their consumption habits with a critical eye on consumerism itself.', 'row': 64}),\n",
       "    Document(page_content=\": 39\\nReview_Date: 23 July 2023\\nAuthor: Anurag-Shetty\\nRating: 10\\nReview_Title: A wholesome delight!\\nReview: Barbie is based on Mattel's iconic plastic dolls of the same name. Barbie(Margot Robbie) lives a very happy life in Barbie Land, along with her fellow Barbies, Ken(Ryan Gosling) & his fellow Kens. Suddenly, Barbie goes through an existential crisis that makes her question Barbie Land & the truth of her existence.\\nReview_Url: /review/rw9199947/?ref_=tt_urv\", metadata={'source': \"Barbie is based on Mattel's iconic plastic dolls of the same name. Barbie(Margot Robbie) lives a very happy life in Barbie Land, along with her fellow Barbies, Ken(Ryan Gosling) & his fellow Kens. Suddenly, Barbie goes through an existential crisis that makes her question Barbie Land & the truth of her existence.\", 'row': 39})])]}"
      ]
     },
     "execution_count": 25,
     "metadata": {},
     "output_type": "execute_result"
    }
   ],
   "source": [
    "barbie_retriever_agent_executor({\"input\" : \"Did people like Barbie, or did they find it too Philosphical? If they did, can you tell me why the movie is so Philosophical?\"})"
   ]
  },
  {
   "cell_type": "code",
   "execution_count": 26,
   "metadata": {},
   "outputs": [
    {
     "name": "stdout",
     "output_type": "stream",
     "text": [
      "\n",
      "\n",
      "\u001b[1m> Entering new AgentExecutor chain...\u001b[0m\n",
      "\u001b[32;1m\u001b[1;3m\n",
      "Invoking: `Search_Wikipedia` with `Barbie`\n",
      "\n",
      "\n",
      "\u001b[0m\u001b[36;1m\u001b[1;3m[Document(page_content='== Plot ==\\nStereotypical Barbie (\"Barbie\") and fellow dolls reside in Barbieland; a matriarchal society with different variations of Barbies, Kens, and a group of discontinued models, who are treated like outcasts due to their unconventional traits. While the Kens spend their days playing at the beach, considering it as their profession, the Barbies hold prestigious jobs such as doctors, lawyers, and politicians. Beach Ken (\"Ken\") is only happy when he is with Barbie and seeks a closer relationship, but Barbie rebuffs him in favor of other activities and female friendships.\\nAt a dance party, Barbie is suddenly stricken with worries about mortality. Overnight, she develops bad breath, cellulite, and flat feet, disrupting her usual routines the next day. Weird Barbie, an outcast due to her disfigurement, tells her she must find the child playing with her in the real world to cure her afflictions. Ken stows away in her convertible hoping to join her on the journey, to which Barbie reluctantly agrees.', metadata={'title': 'Barbie (film)', 'summary': 'Barbie is a 2023 American fantasy comedy film directed by Greta Gerwig from a screenplay she wrote with Noah Baumbach. Based on the Barbie fashion dolls by Mattel, it is the first live-action Barbie film after numerous computer-animated films and specials. The film follows Barbie (Margot Robbie) and Ken (Ryan Gosling) on a journey of self-discovery following an existential crisis. It features an ensemble supporting cast, including America Ferrera, Kate McKinnon, Helen Mirren, Issa Rae, Simu Liu, Michael Cera, Rhea Perlman, and Will Ferrell.\\nA live-action Barbie film was announced in September 2009 by Universal Pictures with Laurence Mark producing. Development began in April 2014, when Sony Pictures acquired the film rights. Following multiple writer and director changes and the casting of Amy Schumer and later Anne Hathaway as Barbie, the rights were transferred to Warner Bros. Pictures in October 2018. Robbie was cast in 2019, after Gal Gadot turned down the role due to scheduling conflicts, and Gerwig was announced as director and co-writer with Baumbach in 2020. The rest of the cast were announced in early 2022. Filming took place primarily at Warner Bros. Studios, Leavesden, in England and on the Venice Beach Skatepark in Los Angeles from March to July 2022.\\nBarbie premiered at the Shrine Auditorium in Los Angeles on July 9, 2023, and was theatrically released in the United States on July 21 by Warner Bros. Pictures. Its simultaneous release with Universal\\'s Oppenheimer led to the \"Barbenheimer\" cultural phenomenon, which encouraged audiences to see both films as a double feature. The film received critical acclaim and has grossed $1.279 billion worldwide, becoming the second highest-grossing film of 2023, as well as the highest-grossing film directed solely by a woman and the 21st highest-grossing film of all-time.\\n\\n', 'source': 'https://en.wikipedia.org/wiki/Barbie_(film)'}), Document(page_content=\"Arriving at Venice Beach, Barbie punches a man for groping her, leading to her and Ken's brief arrest. Alarmed by their presence, Mattel's CEO orders their recapture. Barbie tracks down her owner, a tween girl named Sasha, who criticizes her for encouraging unrealistic beauty standards. Distraught, Barbie discovers that Gloria, a Mattel employee and Sasha's mother, inadvertently catalyzed her existential crisis after Gloria began playing with Sasha's old Barbie toys in a similar state. Mattel attempts to put Barbie in a toy box for remanufacturing, but she escapes with Gloria and Sasha's help and the three travel to Barbieland with Mattel executives in pursuit.\", metadata={'title': 'Barbie (film)', 'summary': 'Barbie is a 2023 American fantasy comedy film directed by Greta Gerwig from a screenplay she wrote with Noah Baumbach. Based on the Barbie fashion dolls by Mattel, it is the first live-action Barbie film after numerous computer-animated films and specials. The film follows Barbie (Margot Robbie) and Ken (Ryan Gosling) on a journey of self-discovery following an existential crisis. It features an ensemble supporting cast, including America Ferrera, Kate McKinnon, Helen Mirren, Issa Rae, Simu Liu, Michael Cera, Rhea Perlman, and Will Ferrell.\\nA live-action Barbie film was announced in September 2009 by Universal Pictures with Laurence Mark producing. Development began in April 2014, when Sony Pictures acquired the film rights. Following multiple writer and director changes and the casting of Amy Schumer and later Anne Hathaway as Barbie, the rights were transferred to Warner Bros. Pictures in October 2018. Robbie was cast in 2019, after Gal Gadot turned down the role due to scheduling conflicts, and Gerwig was announced as director and co-writer with Baumbach in 2020. The rest of the cast were announced in early 2022. Filming took place primarily at Warner Bros. Studios, Leavesden, in England and on the Venice Beach Skatepark in Los Angeles from March to July 2022.\\nBarbie premiered at the Shrine Auditorium in Los Angeles on July 9, 2023, and was theatrically released in the United States on July 21 by Warner Bros. Pictures. Its simultaneous release with Universal\\'s Oppenheimer led to the \"Barbenheimer\" cultural phenomenon, which encouraged audiences to see both films as a double feature. The film received critical acclaim and has grossed $1.279 billion worldwide, becoming the second highest-grossing film of 2023, as well as the highest-grossing film directed solely by a woman and the 21st highest-grossing film of all-time.\\n\\n', 'source': 'https://en.wikipedia.org/wiki/Barbie_(film)'})]\u001b[0m"
     ]
    }
   ],
   "source": [
    "barbie_retriever_agent_executor({\"input\" : \"What is a very quick summary of the plot of the Barbie movie?\"})"
   ]
  },
  {
   "cell_type": "markdown",
   "metadata": {},
   "source": [
    "### Oppenheimer Retrieval System\n",
    "\n",
    "We're going to repourpose some of what we created previously, but this time we'll explore a different multi-source retrieval system."
   ]
  },
  {
   "cell_type": "code",
   "execution_count": null,
   "metadata": {},
   "outputs": [],
   "source": [
    "oppenheimer_wikipedia_docs = ### YOUR CODE HERE\n",
    "\n",
    "oppenheimer_csv_docs = ### YOUR CODE HERE"
   ]
  },
  {
   "cell_type": "code",
   "execution_count": null,
   "metadata": {},
   "outputs": [],
   "source": [
    "chunked_opp_wikipedia_docs = ### YOUR CODE HERE\n",
    "chunked_opp_csv_docs = ### YOUR CODE HERE"
   ]
  },
  {
   "cell_type": "code",
   "execution_count": null,
   "metadata": {},
   "outputs": [],
   "source": [
    "opp_csv_faiss_retriever = ### YOUR CODE HERE\n",
    "\n",
    "# set up BM25 retriever\n",
    "opp_wikipedia_bm25_retriever = ### YOUR CODE HERE\n",
    "opp_wikipedia_bm25_retriever.k = 1\n",
    "\n",
    "# set up FAISS vector store\n",
    "opp_wikipedia_faiss_store = ### YOUR CODE HERE\n",
    "opp_wikipedia_faiss_retriever = opp_wikipedia_faiss_store.as_retriever(search_kwargs={\"k\": 1})\n",
    "\n",
    "# set up ensemble retriever\n",
    "opp_ensemble_retriever = ### YOUR CODE HERE"
   ]
  },
  {
   "cell_type": "markdown",
   "metadata": {},
   "source": [
    "#### Multi-source chain\n",
    "\n",
    "We're going to allow the LLM to decide which information is most -> least valuable.\n",
    "\n",
    "The way we'll do this is with LangChain's rather powerful \"Expression Language\"!\n",
    "\n",
    "> HINT: You can leverage [this](https://python.langchain.com/docs/use_cases/question_answering/how_to/multiple_retrieval) resource if you get stuck - but experiment with different prompts/formats."
   ]
  },
  {
   "cell_type": "code",
   "execution_count": null,
   "metadata": {},
   "outputs": [],
   "source": [
    "from langchain.prompts import ChatPromptTemplate\n",
    "\n",
    "system_message = \"\"\"Use the information from the below two sources to answer any questions.\n",
    "\n",
    "Source 1: public user reviews about the Oppenheimer movie\n",
    "<source1>\n",
    "{source1}\n",
    "</source1>\n",
    "\n",
    "Source 2: the wikipedia page for the Oppenheimer movie including the plot summary, cast, and production information\n",
    "<source2>\n",
    "{source2}\n",
    "</source2>\n",
    "\"\"\"\n",
    "\n",
    "prompt = ChatPromptTemplate.from_messages([(\"system\", system_message), (\"human\", \"{question}\")])"
   ]
  },
  {
   "cell_type": "code",
   "execution_count": null,
   "metadata": {},
   "outputs": [],
   "source": [
    "oppenheimer_multisource_chain = {\n",
    "    \"source1\": (lambda x: x[\"question\"]) | opp_ensemble_retriever,\n",
    "    \"source2\": (lambda x: x[\"question\"]) | opp_csv_faiss_retriever,\n",
    "    \"question\": lambda x: x[\"question\"],\n",
    "} | prompt | llm"
   ]
  },
  {
   "cell_type": "code",
   "execution_count": null,
   "metadata": {},
   "outputs": [],
   "source": [
    "oppenheimer_multisource_chain.invoke({\"question\" : \"What did people think of the Oppenheimer movie?\"})"
   ]
  },
  {
   "cell_type": "markdown",
   "metadata": {},
   "source": [
    "# Agent Creation\n",
    "\n",
    "Now we can finally start building our Agent!\n",
    "\n",
    "The first thing we'll need to do is provide our Agent a Toolbelt. (list of tools). Much like Batman, our LLM-powered Agent can use these tools as it sees fit. \n",
    "\n",
    "While the examples we're constructing in this notebook are straightforward for brevity and simplicities sake - there is no limit to what you can build with Agents, as we'll see as we progress through the program.\n",
    "\n",
    "So, let's begin by setting up our Tools!\n",
    "\n",
    "You'll notice that we have to set up a function to allow our `OppenheimerInfo` tool to interface with the Agent - this is due to it have a specific required input. Creating custom tools is a pattern that you'll want to grow acustomed to as you use LangChain more and more."
   ]
  },
  {
   "cell_type": "code",
   "execution_count": null,
   "metadata": {},
   "outputs": [],
   "source": [
    "from langchain.agents import Tool\n",
    "\n",
    "def query_oppenheimer(input):\n",
    "    return oppenheimer_multisource_chain.invoke({\"question\" : input})\n",
    "\n",
    "tools = [\n",
    "    Tool(\n",
    "        name = ### YOUR CODE HERE,\n",
    "        func=### YOUR CODE HERE,\n",
    "        description=### YOUR CODE HERE\n",
    "    ),\n",
    "    Tool(\n",
    "        name = ### YOUR CODE HERE,\n",
    "        func= ### YOUR CODE HERE,\n",
    "        description= ### YOUR CODE HERE\n",
    "    ),\n",
    "]"
   ]
  },
  {
   "cell_type": "markdown",
   "metadata": {},
   "source": [
    "Now that we've set up our Agents toolbelt, let's set up the LLM that will be powering it!\n",
    "\n",
    "I would suggest playing around with these prompts - and experiments to find what works best for you.\n",
    "\n",
    "RELEVANT DOCS:\n",
    "- [`ZeroShotAgent`](https://api.python.langchain.com/en/latest/agents/langchain.agents.mrkl.base.ZeroShotAgent.html#langchain-agents-mrkl-base-zeroshotagent)"
   ]
  },
  {
   "cell_type": "code",
   "execution_count": null,
   "metadata": {},
   "outputs": [],
   "source": [
    "from langchain.agents import ZeroShotAgent, AgentExecutor\n",
    "\n",
    "prefix = \"\"\"Have a conversation with a human, answering the following questions as best you can. You have access to the following tools:\"\"\"\n",
    "suffix = \"\"\"Begin!\"\n",
    "\n",
    "Question: {input}\n",
    "{agent_scratchpad}\"\"\"\n",
    "\n",
    "prompt = ZeroShotAgent.create_prompt(\n",
    "    ### YOUR CODE HERE\n",
    "    ### YOUR CODE HERE\n",
    "    ### YOUR CODE HERE\n",
    "    ### YOUR CODE HERE\n",
    ")"
   ]
  },
  {
   "cell_type": "code",
   "execution_count": null,
   "metadata": {},
   "outputs": [],
   "source": [
    "from langchain import LLMChain\n",
    "\n",
    "llm_chain = ### YOUR CODE HERE"
   ]
  },
  {
   "cell_type": "markdown",
   "metadata": {},
   "source": [
    "All that's left to do now is create our `ZeroShotAgent` and our `AgentExecutor`, which are the \"reasoner\" and \"actor\" halfs of the `ReAct` method of Agent implementation.\n",
    "\n",
    "Read all about the `ReAct` framework [here](https://react-lm.github.io/)"
   ]
  },
  {
   "cell_type": "code",
   "execution_count": null,
   "metadata": {},
   "outputs": [],
   "source": [
    "barbenheimer_agent = ZeroShotAgent(\n",
    "    llm_chain=### YOUR AGENTS, \n",
    "    tools=### YOUR AGENTS, \n",
    "    verbose=### YOUR AGENTS)\n",
    "\n",
    "barbenheimer_agent_chain = AgentExecutor.from_agent_and_tools(\n",
    "    agent=### YOUR AGENTS, \n",
    "    tools=### YOUR AGENTS, \n",
    "    verbose=### YOUR AGENTS)"
   ]
  },
  {
   "cell_type": "markdown",
   "metadata": {},
   "source": [
    "## Conclusion\n",
    "\n",
    "All that is left to do now, is feed inputs to your Agent and watch it work!\n",
    "\n",
    "Remember to use the `{\"input\" : \"YOUR QUERY HERE\"}` format when prompting the Agent."
   ]
  },
  {
   "cell_type": "code",
   "execution_count": null,
   "metadata": {},
   "outputs": [],
   "source": [
    "barbenheimer_agent_chain.invoke({\"input\" : \"What did people like about the Barbie movie?\"})"
   ]
  },
  {
   "cell_type": "code",
   "execution_count": null,
   "metadata": {},
   "outputs": [],
   "source": [
    "barbenheimer_agent_chain.run({\"input\" : \"What did people like about the Oppenheimer movie?\"})"
   ]
  },
  {
   "cell_type": "code",
   "execution_count": null,
   "metadata": {},
   "outputs": [],
   "source": [
    "barbenheimer_agent_chain.run({\"input\" : \"Did the movies Barbie and Oppenheimer share similar themes or ideas?\"})"
   ]
  },
  {
   "cell_type": "markdown",
   "metadata": {},
   "source": [
    "## Next Steps\n",
    "\n",
    "It's time to build a Chainlit (or Gradio) application and host it on Hugging Face Spaces! :ship:"
   ]
  }
 ],
 "metadata": {
  "kernelspec": {
   "display_name": "barbenheimer-week-1",
   "language": "python",
   "name": "python3"
  },
  "language_info": {
   "codemirror_mode": {
    "name": "ipython",
    "version": 3
   },
   "file_extension": ".py",
   "mimetype": "text/x-python",
   "name": "python",
   "nbconvert_exporter": "python",
   "pygments_lexer": "ipython3",
   "version": "3.11.3"
  },
  "orig_nbformat": 4
 },
 "nbformat": 4,
 "nbformat_minor": 2
}
