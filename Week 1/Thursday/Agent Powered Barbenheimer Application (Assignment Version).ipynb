{
 "cells": [
  {
   "cell_type": "markdown",
   "metadata": {},
   "source": [
    "# Questioning Barbie and Oppenheimer Through the Use of Agents\n",
    "\n",
    "In the following notebook we will build an application that queries both the Barbie and Oppenheimer movies Wikipedia pages, as well as their reviews. \n",
    "\n",
    "The main focus of this notebook is to showcase a brief introduction to Agents.\n",
    "\n",
    "## Build 🏗️\n",
    "\n",
    "There are 3 main tasks in this notebook:\n",
    "\n",
    "1. Contruct a Barbie retriever\n",
    "2. Construct an Oppenheimer retriever\n",
    "3. Combine the two and allow users to query both resources from a single input through the use of Agents\n",
    "\n",
    "## Ship 🚢\n",
    "\n",
    "Based on Tuesday's session - construct a Chainlit (or Gradio) application that allows users to interface with the application.\n",
    "\n",
    "## Share 🚀\n",
    "\n",
    "Make a social media post about your final application."
   ]
  },
  {
   "cell_type": "markdown",
   "metadata": {},
   "source": [
    "### Dependencies\n",
    "\n",
    "As always, let's start with some dependencies!"
   ]
  },
  {
   "cell_type": "code",
   "execution_count": 1,
   "metadata": {},
   "outputs": [],
   "source": [
    "!pip install -q -U langchain openai"
   ]
  },
  {
   "cell_type": "code",
   "execution_count": 1,
   "metadata": {},
   "outputs": [],
   "source": [
    "import getpass\n",
    "import os\n",
    "openai_api_key = getpass.getpass(\"Enter your OpenAI API Key: \")\n",
    "os.environ[\"OPENAI_API_KEY\"] = openai_api_key"
   ]
  },
  {
   "cell_type": "markdown",
   "metadata": {},
   "source": [
    "### LLM \n",
    "\n",
    "We will be leveraging OpenAI's `gpt-3.5-turbo` throughout the notebook, and we can keep it consistent throughout!"
   ]
  },
  {
   "cell_type": "code",
   "execution_count": 2,
   "metadata": {},
   "outputs": [],
   "source": [
    "from langchain.chat_models import ChatOpenAI\n",
    "llm = ChatOpenAI(model=\"gpt-3.5-turbo\", temperature = 0)"
   ]
  },
  {
   "cell_type": "markdown",
   "metadata": {},
   "source": [
    "### Data Collection and Transformation\n",
    "\n",
    "We'll be leveraging the `WikipediaLoader` tool to collect information from Wikipedia. \n",
    "\n",
    "Be sure to set the `doc_content_chars_max` parameter so that you capture the *entire* Wikipedia article content."
   ]
  },
  {
   "cell_type": "code",
   "execution_count": 6,
   "metadata": {},
   "outputs": [],
   "source": [
    "!pip install -q -U wikipedia"
   ]
  },
  {
   "cell_type": "code",
   "execution_count": 3,
   "metadata": {},
   "outputs": [],
   "source": [
    "from langchain.document_loaders import WikipediaLoader, CSVLoader\n",
    "\n",
    "barbie_wikipedia_docs = WikipediaLoader(\n",
    "    query=\"Barbie (film)\", \n",
    "    load_max_docs= 1, # YOUR CODE HERE, \n",
    "    doc_content_chars_max=10000000 ### YOUR CODE HERE\n",
    "    ).load()\n",
    "\n",
    "barbie_csv_docs = CSVLoader(\n",
    "    file_path= \"./barbie_data/barbie.csv\", ### YOUR CODE HERE, \n",
    "    source_column=\"Review\"   ### YOUR CODE HERE\n",
    "    ).load()"
   ]
  },
  {
   "cell_type": "markdown",
   "metadata": {},
   "source": [
    "Since we'll be using same format source documentation separated by topic, we can save ourselves some extra effort and set up our splitters once. \n",
    "\n",
    "We're going to leverage the `RecursiveCharacterTextSplitter` again, this time paying close attention to the format our Wikipedia articles and reviews are in so we can be sure to chunk them appropritately. \n",
    "\n",
    "> HINT: You can pass a list of separators when you intialize your `RecursiveTextSplitter`! They are acted on in order of element 0 -> element len(list).\n",
    "\n",
    "RELEVANT DOCS:\n",
    "- [`RecursiveCharacterTextSplitter`](https://api.python.langchain.com/en/latest/text_splitter/langchain.text_splitter.RecursiveCharacterTextSplitter.html#langchain.text_splitter.RecursiveCharacterTextSplitter)"
   ]
  },
  {
   "cell_type": "code",
   "execution_count": 4,
   "metadata": {},
   "outputs": [],
   "source": [
    "from langchain.text_splitter import RecursiveCharacterTextSplitter\n",
    "\n",
    "wikipedia_text_splitter = RecursiveCharacterTextSplitter(\n",
    "    chunk_size = 1024,  ### YOUR CODE HERE,\n",
    "    chunk_overlap = 512, ### YOUR CODE HERE,\n",
    "    length_function = len, ### YOUR CODE HERE,\n",
    "    is_separator_regex= False,\n",
    "    separators = [\"\\n==\", \"\\n\", \" \"] ### YOUR CODE HERE # keep headings, then paragraphs, then sentences\n",
    ")\n",
    "\n",
    "csv_text_splitter = RecursiveCharacterTextSplitter(\n",
    "    chunk_size = 1024, ### YOUR CODE HERE,\n",
    "    chunk_overlap = 512, ### YOUR CODE HERE,\n",
    "    length_function = len, ### YOUR CODE HERE,\n",
    "    is_separator_regex= False,\n",
    "    separators = [\"\\n\", \" \"] ### YOUR CODE HERE # keep paragraphs, then sentences\n",
    ")\n",
    "\n",
    "# type(barbie_wikipedia_docs[0])\n",
    "chunked_barbie_wikipedia_docs = wikipedia_text_splitter.transform_documents(barbie_wikipedia_docs) ### YOUR CODE HERE\n",
    "chunked_barbie_csv_docs = csv_text_splitter.transform_documents(barbie_csv_docs) ### YOUR CODE HERE"
   ]
  },
  {
   "cell_type": "markdown",
   "metadata": {},
   "source": [
    "#### Retrieval and Embedding Strategy\n",
    "\n",
    "We've already discussed the useful application of `CacheBackedEmbeddings`, so let's do it again!\n",
    "\n",
    "RELEVANT DOCS:\n",
    "- [`CacheBackedEmbeddings`](https://api.python.langchain.com/en/latest/embeddings/langchain.embeddings.cache.CacheBackedEmbeddings.html#langchain-embeddings-cache-cachebackedembeddings)"
   ]
  },
  {
   "cell_type": "code",
   "execution_count": 5,
   "metadata": {},
   "outputs": [],
   "source": [
    "!pip install -q -U rank_bm25 tiktoken faiss-cpu"
   ]
  },
  {
   "cell_type": "code",
   "execution_count": 14,
   "metadata": {},
   "outputs": [],
   "source": [
    "from langchain.retrievers import BM25Retriever, EnsembleRetriever\n",
    "from langchain.vectorstores import FAISS\n",
    "from langchain.embeddings.openai import OpenAIEmbeddings\n",
    "from langchain.embeddings import CacheBackedEmbeddings\n",
    "from langchain.storage import LocalFileStore\n",
    "\n",
    "# set up cached embeddings store\n",
    "store = LocalFileStore(\"./.cache/\") ### YOUR CODE HERE\n",
    "\n",
    "core_embeddings_model = OpenAIEmbeddings() ### YOUR CODE HERE\n",
    "\n",
    "embedder = CacheBackedEmbeddings.from_bytes_store(core_embeddings_model, store, namespace=core_embeddings_model.model) ### YOUR CODE HERE"
   ]
  },
  {
   "cell_type": "markdown",
   "metadata": {},
   "source": [
    "We'll implement a `FAISS` vectorstore, and create a retriever from it."
   ]
  },
  {
   "cell_type": "code",
   "execution_count": 15,
   "metadata": {},
   "outputs": [],
   "source": [
    "barbie_csv_faiss_retriever = FAISS.from_documents(chunked_barbie_csv_docs, embedder) ### YOUR CODE HERE\n"
   ]
  },
  {
   "cell_type": "markdown",
   "metadata": {},
   "source": [
    "There are a number of excellent options to retrieve documents - we'll be looking at an additional example today, which is called the `EnsembleRetriever`.\n",
    "\n",
    "The method this is using is outlined in [this paper](https://plg.uwaterloo.ca/~gvcormac/cormacksigir09-rrf.pdf).\n",
    "\n",
    "The brief explanation is:\n",
    "\n",
    "1. We collect results from two different retrieval methods over the same corpus\n",
    "2. We apply a reranking algorithm to rerank our source documents to be the *most relevant* without losing specific or potentially low-ranked information rich documents\n",
    "3. We feed the top-k results into the LLM with our query as context.\n",
    "\n",
    "> HINT: Your weight list should be of type `List[float]` and the `sum(List[float])` should be `1`."
   ]
  },
  {
   "cell_type": "code",
   "execution_count": 16,
   "metadata": {},
   "outputs": [],
   "source": [
    "# set up BM25 retriever\n",
    "barbie_wikipedia_bm25_retriever = BM25Retriever.from_documents(\n",
    "    chunked_barbie_wikipedia_docs ### YOUR CODE HERE\n",
    ")\n",
    "barbie_wikipedia_bm25_retriever.k = 1\n",
    "\n",
    "# set up FAISS vector store\n",
    "barbie_wikipedia_faiss_store = FAISS.from_documents(\n",
    "    chunked_barbie_wikipedia_docs, ### YOUR CODE HERE,\n",
    "    embedder ### YOUR CODE HERE\n",
    ")\n",
    "barbie_wikipedia_faiss_retriever = barbie_wikipedia_faiss_store.as_retriever(search_kwargs={\"k\": 1})\n",
    "\n",
    "# set up ensemble retriever\n",
    "barbie_ensemble_retriever = EnsembleRetriever(\n",
    "    retrievers=[barbie_wikipedia_bm25_retriever, barbie_wikipedia_faiss_retriever], ### YOUR CODE HERE,\n",
    "    weights= [0.25, 0.75] ### YOUR CODE HERE # should sum to 1\n",
    ")"
   ]
  },
  {
   "cell_type": "markdown",
   "metadata": {},
   "source": [
    "#### Retrieval Agent\n",
    "\n",
    "We can create a simple conversational retrieval Agent by using the built-ins provided by LangChain!\n",
    "\n",
    "> HINT: Be sure to provide good natural language descriptions of what the tool should be used for to get the best results.\n",
    "\n",
    "RELEVANT DOCS:\n",
    "- [`create_retriever_tool`](https://api.python.langchain.com/en/latest/agents/langchain.agents.agent_toolkits.conversational_retrieval.tool.create_retriever_tool.html#langchain.agents.agent_toolkits.conversational_retrieval.tool.create_retriever_tool)"
   ]
  },
  {
   "cell_type": "code",
   "execution_count": 17,
   "metadata": {},
   "outputs": [],
   "source": [
    "from langchain.agents.agent_toolkits import create_retriever_tool\n",
    "\n",
    "barbie_wikipedia_retrieval_tool = create_retriever_tool(\n",
    "    retriever=barbie_ensemble_retriever, ### YOUR CODE HERE \n",
    "    name='Search_Wikipedia', ### YOUR CODE HERE\n",
    "    description='Useful for when you need to answer questions about plot, cast, production, release, music, marketing, reception, themes and analysis of the Barbie movie.' ### YOUR CODE HERE\n",
    ")\n",
    "\n",
    "barbie_csv_retrieval_tool = create_retriever_tool(\n",
    "    retriever=barbie_csv_faiss_retriever.as_retriever(), ### YOUR CODE HERE \n",
    "    name='Search_Reviews', ### YOUR CODE HERE\n",
    "    description='Useful for when you need to answer questions about public reviews of the Barbie movie.'\n",
    ")\n",
    "\n",
    "barbie_retriever_tools = [barbie_wikipedia_retrieval_tool, barbie_csv_retrieval_tool] ### YOUR CODE HERE"
   ]
  },
  {
   "cell_type": "markdown",
   "metadata": {},
   "source": [
    "Now that we've created our tools, we can combined them into an agent!\n",
    "\n",
    "RELEVANT DOCS:\n",
    "- [`create_conversational_retrieval_agent`](https://api.python.langchain.com/en/latest/agents/langchain.agents.agent_toolkits.conversational_retrieval.openai_functions.create_conversational_retrieval_agent.html#langchain.agents.agent_toolkits.conversational_retrieval.openai_functions.create_conversational_retrieval_agent)"
   ]
  },
  {
   "cell_type": "code",
   "execution_count": 18,
   "metadata": {},
   "outputs": [],
   "source": [
    "from langchain.agents.agent_toolkits import create_conversational_retrieval_agent\n",
    "\n",
    "barbie_retriever_agent_executor = create_conversational_retrieval_agent(llm=llm, tools=barbie_retriever_tools, verbose=True) # YOUR CODE HERE"
   ]
  },
  {
   "cell_type": "code",
   "execution_count": 11,
   "metadata": {},
   "outputs": [
    {
     "name": "stdout",
     "output_type": "stream",
     "text": [
      "\n",
      "\n",
      "\u001b[1m> Entering new AgentExecutor chain...\u001b[0m\n",
      "\u001b[32;1m\u001b[1;3m\n",
      "Invoking: `Search_Reviews` with `Barbie movie`\n",
      "\n",
      "\n",
      "\u001b[0m\u001b[33;1m\u001b[1;3m[Document(page_content=\"Review: The big summer blockbuster of 2023 is a wonderful visual spectacle with a great deal of creative physical comedy, centered in and around the universe of Barbie, Mattel's historic toy doll. Unfortunately, the film tries to be and do much more than what the filmmakers ultimately are able to control and reel in. That a movie about Barbie would be guilty of Americanization is no surprise, and in many ways more than befitting, but the Americanization here isn't just about the history of the toy itself and all its cultural impacts - Barbie also views everything through the eyes of Hollywood anno 2023 - which arguably is a very particular and perhaps not that representative outlook. Instead of utilizing the fine foundation laid in the film's first third, director and co-writer Greta Gervig (Lady Bird, Little Women) gets herself lost in a trite, divisive and most likely futile battle of the sexes, which will leave youths - and perhaps particularly Europeans - feeling confused and conflicted. The filmmakers'\", metadata={'source': \"The big summer blockbuster of 2023 is a wonderful visual spectacle with a great deal of creative physical comedy, centered in and around the universe of Barbie, Mattel's historic toy doll. Unfortunately, the film tries to be and do much more than what the filmmakers ultimately are able to control and reel in. That a movie about Barbie would be guilty of Americanization is no surprise, and in many ways more than befitting, but the Americanization here isn't just about the history of the toy itself and all its cultural impacts - Barbie also views everything through the eyes of Hollywood anno 2023 - which arguably is a very particular and perhaps not that representative outlook. Instead of utilizing the fine foundation laid in the film's first third, director and co-writer Greta Gervig (Lady Bird, Little Women) gets herself lost in a trite, divisive and most likely futile battle of the sexes, which will leave youths - and perhaps particularly Europeans - feeling confused and conflicted. The filmmakers' supposed toying with stereotypes ultimately becomes more of a playing into them, especially towards the end when Gerwig staggers along desperately looking for closure and something meaningful to say. Alas, Barbie has ended up as a rather sad symptom of our times, when it could have been the wonderfully funny piece of femininity-appraising escapism it started out as. There are nonetheless several highlights here, such as the delightfully absurd opening sequence (a fine nod to Kubrick's 2001), the initial introduction of Barbie and Ken's days in Barbieland, and - of course - their first encounter with the real world.\", 'row': 116}), Document(page_content=': 53\\nReview_Date: 29 July 2023\\nAuthor: planktonrules\\nRating: 6\\nReview_Title: Good...not great\\nReview: \"Barbie\" is a movie that is setting all sorts of records, so it\\'s obvious that the film is touching many people. For some, it\\'s the fun of seeing a doll come to life, for others it\\'s the theme of empowerment that make the movie a big hit. As for me, I did like it and thought it was a pretty good movie...but it\\'s not for everyone.\\nReview_Url: /review/rw9199947/?ref_=tt_urv', metadata={'source': '\"Barbie\" is a movie that is setting all sorts of records, so it\\'s obvious that the film is touching many people. For some, it\\'s the fun of seeing a doll come to life, for others it\\'s the theme of empowerment that make the movie a big hit. As for me, I did like it and thought it was a pretty good movie...but it\\'s not for everyone.', 'row': 53}), Document(page_content=\"supposed toying with stereotypes ultimately becomes more of a playing into them, especially towards the end when Gerwig staggers along desperately looking for closure and something meaningful to say. Alas, Barbie has ended up as a rather sad symptom of our times, when it could have been the wonderfully funny piece of femininity-appraising escapism it started out as. There are nonetheless several highlights here, such as the delightfully absurd opening sequence (a fine nod to Kubrick's 2001), the initial introduction of Barbie and Ken's days in Barbieland, and - of course - their first encounter with the real world.\", metadata={'source': \"The big summer blockbuster of 2023 is a wonderful visual spectacle with a great deal of creative physical comedy, centered in and around the universe of Barbie, Mattel's historic toy doll. Unfortunately, the film tries to be and do much more than what the filmmakers ultimately are able to control and reel in. That a movie about Barbie would be guilty of Americanization is no surprise, and in many ways more than befitting, but the Americanization here isn't just about the history of the toy itself and all its cultural impacts - Barbie also views everything through the eyes of Hollywood anno 2023 - which arguably is a very particular and perhaps not that representative outlook. Instead of utilizing the fine foundation laid in the film's first third, director and co-writer Greta Gervig (Lady Bird, Little Women) gets herself lost in a trite, divisive and most likely futile battle of the sexes, which will leave youths - and perhaps particularly Europeans - feeling confused and conflicted. The filmmakers' supposed toying with stereotypes ultimately becomes more of a playing into them, especially towards the end when Gerwig staggers along desperately looking for closure and something meaningful to say. Alas, Barbie has ended up as a rather sad symptom of our times, when it could have been the wonderfully funny piece of femininity-appraising escapism it started out as. There are nonetheless several highlights here, such as the delightfully absurd opening sequence (a fine nod to Kubrick's 2001), the initial introduction of Barbie and Ken's days in Barbieland, and - of course - their first encounter with the real world.\", 'row': 116}), Document(page_content=': 97\\nReview_Date: 21 July 2023\\nAuthor: MrDHWong\\nRating: 9\\nReview_Title: A darkly satirical look at gender structure in society\\nReview: \"Barbie\" is a comedy film based on the line of fashion dolls by Mattel. Directed and co-written by Greta Gerwig (\"Lady Bird\", \"Little Women\") and starring Margot Robbie and Ryan Gosling, it takes every opportunity to revel in its amusing premise with a darkly satirical look at gender structure in society.\\nReview_Url: /review/rw9199947/?ref_=tt_urv', metadata={'source': '\"Barbie\" is a comedy film based on the line of fashion dolls by Mattel. Directed and co-written by Greta Gerwig (\"Lady Bird\", \"Little Women\") and starring Margot Robbie and Ryan Gosling, it takes every opportunity to revel in its amusing premise with a darkly satirical look at gender structure in society.', 'row': 97})]\u001b[0m\u001b[32;1m\u001b[1;3mThe reviews for the Barbie movie are mixed. Some people enjoyed the movie and found it entertaining, while others felt that it tried to be too philosophical and ended up being confusing and divisive.\n",
      "\n",
      "One reviewer mentioned that the film tries to do more than what the filmmakers were able to control and reel in. It is criticized for its Americanization and for viewing everything through the eyes of Hollywood in 2023, which may not be representative for everyone. The director and co-writer, Greta Gerwig, is said to have gotten lost in a trite and divisive battle of the sexes, leaving viewers feeling confused and conflicted. The supposed exploration of stereotypes in the movie is seen as playing into them instead of challenging them. Overall, this reviewer sees the movie as a sad symptom of our times, when it could have been a funny piece of escapism.\n",
      "\n",
      "On the other hand, another reviewer appreciated the movie for its darkly satirical look at gender structure in society. They found it amusing and praised the performances of the cast.\n",
      "\n",
      "So, while some people found the Barbie movie to be too philosophical and confusing, others enjoyed its satirical take on gender structure. The movie's philosophical elements may have divided opinions among viewers.\u001b[0m\n",
      "\n",
      "\u001b[1m> Finished chain.\u001b[0m\n"
     ]
    },
    {
     "data": {
      "text/plain": [
       "{'input': 'Did people like Barbie, or did they find it too Philosphical? If they did, can you tell me why the movie is so Philosophical?',\n",
       " 'chat_history': [HumanMessage(content='Did people like Barbie, or did they find it too Philosphical? If they did, can you tell me why the movie is so Philosophical?', additional_kwargs={}, example=False),\n",
       "  AIMessage(content='', additional_kwargs={'function_call': {'name': 'Search_Reviews', 'arguments': '{\\n  \"__arg1\": \"Barbie movie\"\\n}'}}, example=False),\n",
       "  FunctionMessage(content='[Document(page_content=\"Review: The big summer blockbuster of 2023 is a wonderful visual spectacle with a great deal of creative physical comedy, centered in and around the universe of Barbie, Mattel\\'s historic toy doll. Unfortunately, the film tries to be and do much more than what the filmmakers ultimately are able to control and reel in. That a movie about Barbie would be guilty of Americanization is no surprise, and in many ways more than befitting, but the Americanization here isn\\'t just about the history of the toy itself and all its cultural impacts - Barbie also views everything through the eyes of Hollywood anno 2023 - which arguably is a very particular and perhaps not that representative outlook. Instead of utilizing the fine foundation laid in the film\\'s first third, director and co-writer Greta Gervig (Lady Bird, Little Women) gets herself lost in a trite, divisive and most likely futile battle of the sexes, which will leave youths - and perhaps particularly Europeans - feeling confused and conflicted. The filmmakers\\'\", metadata={\\'source\\': \"The big summer blockbuster of 2023 is a wonderful visual spectacle with a great deal of creative physical comedy, centered in and around the universe of Barbie, Mattel\\'s historic toy doll. Unfortunately, the film tries to be and do much more than what the filmmakers ultimately are able to control and reel in. That a movie about Barbie would be guilty of Americanization is no surprise, and in many ways more than befitting, but the Americanization here isn\\'t just about the history of the toy itself and all its cultural impacts - Barbie also views everything through the eyes of Hollywood anno 2023 - which arguably is a very particular and perhaps not that representative outlook. Instead of utilizing the fine foundation laid in the film\\'s first third, director and co-writer Greta Gervig (Lady Bird, Little Women) gets herself lost in a trite, divisive and most likely futile battle of the sexes, which will leave youths - and perhaps particularly Europeans - feeling confused and conflicted. The filmmakers\\' supposed toying with stereotypes ultimately becomes more of a playing into them, especially towards the end when Gerwig staggers along desperately looking for closure and something meaningful to say. Alas, Barbie has ended up as a rather sad symptom of our times, when it could have been the wonderfully funny piece of femininity-appraising escapism it started out as. There are nonetheless several highlights here, such as the delightfully absurd opening sequence (a fine nod to Kubrick\\'s 2001), the initial introduction of Barbie and Ken\\'s days in Barbieland, and - of course - their first encounter with the real world.\", \\'row\\': 116}), Document(page_content=\\': 53\\\\nReview_Date: 29 July 2023\\\\nAuthor: planktonrules\\\\nRating: 6\\\\nReview_Title: Good...not great\\\\nReview: \"Barbie\" is a movie that is setting all sorts of records, so it\\\\\\'s obvious that the film is touching many people. For some, it\\\\\\'s the fun of seeing a doll come to life, for others it\\\\\\'s the theme of empowerment that make the movie a big hit. As for me, I did like it and thought it was a pretty good movie...but it\\\\\\'s not for everyone.\\\\nReview_Url: /review/rw9199947/?ref_=tt_urv\\', metadata={\\'source\\': \\'\"Barbie\" is a movie that is setting all sorts of records, so it\\\\\\'s obvious that the film is touching many people. For some, it\\\\\\'s the fun of seeing a doll come to life, for others it\\\\\\'s the theme of empowerment that make the movie a big hit. As for me, I did like it and thought it was a pretty good movie...but it\\\\\\'s not for everyone.\\', \\'row\\': 53}), Document(page_content=\"supposed toying with stereotypes ultimately becomes more of a playing into them, especially towards the end when Gerwig staggers along desperately looking for closure and something meaningful to say. Alas, Barbie has ended up as a rather sad symptom of our times, when it could have been the wonderfully funny piece of femininity-appraising escapism it started out as. There are nonetheless several highlights here, such as the delightfully absurd opening sequence (a fine nod to Kubrick\\'s 2001), the initial introduction of Barbie and Ken\\'s days in Barbieland, and - of course - their first encounter with the real world.\", metadata={\\'source\\': \"The big summer blockbuster of 2023 is a wonderful visual spectacle with a great deal of creative physical comedy, centered in and around the universe of Barbie, Mattel\\'s historic toy doll. Unfortunately, the film tries to be and do much more than what the filmmakers ultimately are able to control and reel in. That a movie about Barbie would be guilty of Americanization is no surprise, and in many ways more than befitting, but the Americanization here isn\\'t just about the history of the toy itself and all its cultural impacts - Barbie also views everything through the eyes of Hollywood anno 2023 - which arguably is a very particular and perhaps not that representative outlook. Instead of utilizing the fine foundation laid in the film\\'s first third, director and co-writer Greta Gervig (Lady Bird, Little Women) gets herself lost in a trite, divisive and most likely futile battle of the sexes, which will leave youths - and perhaps particularly Europeans - feeling confused and conflicted. The filmmakers\\' supposed toying with stereotypes ultimately becomes more of a playing into them, especially towards the end when Gerwig staggers along desperately looking for closure and something meaningful to say. Alas, Barbie has ended up as a rather sad symptom of our times, when it could have been the wonderfully funny piece of femininity-appraising escapism it started out as. There are nonetheless several highlights here, such as the delightfully absurd opening sequence (a fine nod to Kubrick\\'s 2001), the initial introduction of Barbie and Ken\\'s days in Barbieland, and - of course - their first encounter with the real world.\", \\'row\\': 116}), Document(page_content=\\': 97\\\\nReview_Date: 21 July 2023\\\\nAuthor: MrDHWong\\\\nRating: 9\\\\nReview_Title: A darkly satirical look at gender structure in society\\\\nReview: \"Barbie\" is a comedy film based on the line of fashion dolls by Mattel. Directed and co-written by Greta Gerwig (\"Lady Bird\", \"Little Women\") and starring Margot Robbie and Ryan Gosling, it takes every opportunity to revel in its amusing premise with a darkly satirical look at gender structure in society.\\\\nReview_Url: /review/rw9199947/?ref_=tt_urv\\', metadata={\\'source\\': \\'\"Barbie\" is a comedy film based on the line of fashion dolls by Mattel. Directed and co-written by Greta Gerwig (\"Lady Bird\", \"Little Women\") and starring Margot Robbie and Ryan Gosling, it takes every opportunity to revel in its amusing premise with a darkly satirical look at gender structure in society.\\', \\'row\\': 97})]', additional_kwargs={}, name='Search_Reviews'),\n",
       "  AIMessage(content=\"The reviews for the Barbie movie are mixed. Some people enjoyed the movie and found it entertaining, while others felt that it tried to be too philosophical and ended up being confusing and divisive.\\n\\nOne reviewer mentioned that the film tries to do more than what the filmmakers were able to control and reel in. It is criticized for its Americanization and for viewing everything through the eyes of Hollywood in 2023, which may not be representative for everyone. The director and co-writer, Greta Gerwig, is said to have gotten lost in a trite and divisive battle of the sexes, leaving viewers feeling confused and conflicted. The supposed exploration of stereotypes in the movie is seen as playing into them instead of challenging them. Overall, this reviewer sees the movie as a sad symptom of our times, when it could have been a funny piece of escapism.\\n\\nOn the other hand, another reviewer appreciated the movie for its darkly satirical look at gender structure in society. They found it amusing and praised the performances of the cast.\\n\\nSo, while some people found the Barbie movie to be too philosophical and confusing, others enjoyed its satirical take on gender structure. The movie's philosophical elements may have divided opinions among viewers.\", additional_kwargs={}, example=False)],\n",
       " 'output': \"The reviews for the Barbie movie are mixed. Some people enjoyed the movie and found it entertaining, while others felt that it tried to be too philosophical and ended up being confusing and divisive.\\n\\nOne reviewer mentioned that the film tries to do more than what the filmmakers were able to control and reel in. It is criticized for its Americanization and for viewing everything through the eyes of Hollywood in 2023, which may not be representative for everyone. The director and co-writer, Greta Gerwig, is said to have gotten lost in a trite and divisive battle of the sexes, leaving viewers feeling confused and conflicted. The supposed exploration of stereotypes in the movie is seen as playing into them instead of challenging them. Overall, this reviewer sees the movie as a sad symptom of our times, when it could have been a funny piece of escapism.\\n\\nOn the other hand, another reviewer appreciated the movie for its darkly satirical look at gender structure in society. They found it amusing and praised the performances of the cast.\\n\\nSo, while some people found the Barbie movie to be too philosophical and confusing, others enjoyed its satirical take on gender structure. The movie's philosophical elements may have divided opinions among viewers.\",\n",
       " 'intermediate_steps': [(_FunctionsAgentAction(tool='Search_Reviews', tool_input='Barbie movie', log='\\nInvoking: `Search_Reviews` with `Barbie movie`\\n\\n\\n', message_log=[AIMessage(content='', additional_kwargs={'function_call': {'name': 'Search_Reviews', 'arguments': '{\\n  \"__arg1\": \"Barbie movie\"\\n}'}}, example=False)]),\n",
       "   [Document(page_content=\"Review: The big summer blockbuster of 2023 is a wonderful visual spectacle with a great deal of creative physical comedy, centered in and around the universe of Barbie, Mattel's historic toy doll. Unfortunately, the film tries to be and do much more than what the filmmakers ultimately are able to control and reel in. That a movie about Barbie would be guilty of Americanization is no surprise, and in many ways more than befitting, but the Americanization here isn't just about the history of the toy itself and all its cultural impacts - Barbie also views everything through the eyes of Hollywood anno 2023 - which arguably is a very particular and perhaps not that representative outlook. Instead of utilizing the fine foundation laid in the film's first third, director and co-writer Greta Gervig (Lady Bird, Little Women) gets herself lost in a trite, divisive and most likely futile battle of the sexes, which will leave youths - and perhaps particularly Europeans - feeling confused and conflicted. The filmmakers'\", metadata={'source': \"The big summer blockbuster of 2023 is a wonderful visual spectacle with a great deal of creative physical comedy, centered in and around the universe of Barbie, Mattel's historic toy doll. Unfortunately, the film tries to be and do much more than what the filmmakers ultimately are able to control and reel in. That a movie about Barbie would be guilty of Americanization is no surprise, and in many ways more than befitting, but the Americanization here isn't just about the history of the toy itself and all its cultural impacts - Barbie also views everything through the eyes of Hollywood anno 2023 - which arguably is a very particular and perhaps not that representative outlook. Instead of utilizing the fine foundation laid in the film's first third, director and co-writer Greta Gervig (Lady Bird, Little Women) gets herself lost in a trite, divisive and most likely futile battle of the sexes, which will leave youths - and perhaps particularly Europeans - feeling confused and conflicted. The filmmakers' supposed toying with stereotypes ultimately becomes more of a playing into them, especially towards the end when Gerwig staggers along desperately looking for closure and something meaningful to say. Alas, Barbie has ended up as a rather sad symptom of our times, when it could have been the wonderfully funny piece of femininity-appraising escapism it started out as. There are nonetheless several highlights here, such as the delightfully absurd opening sequence (a fine nod to Kubrick's 2001), the initial introduction of Barbie and Ken's days in Barbieland, and - of course - their first encounter with the real world.\", 'row': 116}),\n",
       "    Document(page_content=': 53\\nReview_Date: 29 July 2023\\nAuthor: planktonrules\\nRating: 6\\nReview_Title: Good...not great\\nReview: \"Barbie\" is a movie that is setting all sorts of records, so it\\'s obvious that the film is touching many people. For some, it\\'s the fun of seeing a doll come to life, for others it\\'s the theme of empowerment that make the movie a big hit. As for me, I did like it and thought it was a pretty good movie...but it\\'s not for everyone.\\nReview_Url: /review/rw9199947/?ref_=tt_urv', metadata={'source': '\"Barbie\" is a movie that is setting all sorts of records, so it\\'s obvious that the film is touching many people. For some, it\\'s the fun of seeing a doll come to life, for others it\\'s the theme of empowerment that make the movie a big hit. As for me, I did like it and thought it was a pretty good movie...but it\\'s not for everyone.', 'row': 53}),\n",
       "    Document(page_content=\"supposed toying with stereotypes ultimately becomes more of a playing into them, especially towards the end when Gerwig staggers along desperately looking for closure and something meaningful to say. Alas, Barbie has ended up as a rather sad symptom of our times, when it could have been the wonderfully funny piece of femininity-appraising escapism it started out as. There are nonetheless several highlights here, such as the delightfully absurd opening sequence (a fine nod to Kubrick's 2001), the initial introduction of Barbie and Ken's days in Barbieland, and - of course - their first encounter with the real world.\", metadata={'source': \"The big summer blockbuster of 2023 is a wonderful visual spectacle with a great deal of creative physical comedy, centered in and around the universe of Barbie, Mattel's historic toy doll. Unfortunately, the film tries to be and do much more than what the filmmakers ultimately are able to control and reel in. That a movie about Barbie would be guilty of Americanization is no surprise, and in many ways more than befitting, but the Americanization here isn't just about the history of the toy itself and all its cultural impacts - Barbie also views everything through the eyes of Hollywood anno 2023 - which arguably is a very particular and perhaps not that representative outlook. Instead of utilizing the fine foundation laid in the film's first third, director and co-writer Greta Gervig (Lady Bird, Little Women) gets herself lost in a trite, divisive and most likely futile battle of the sexes, which will leave youths - and perhaps particularly Europeans - feeling confused and conflicted. The filmmakers' supposed toying with stereotypes ultimately becomes more of a playing into them, especially towards the end when Gerwig staggers along desperately looking for closure and something meaningful to say. Alas, Barbie has ended up as a rather sad symptom of our times, when it could have been the wonderfully funny piece of femininity-appraising escapism it started out as. There are nonetheless several highlights here, such as the delightfully absurd opening sequence (a fine nod to Kubrick's 2001), the initial introduction of Barbie and Ken's days in Barbieland, and - of course - their first encounter with the real world.\", 'row': 116}),\n",
       "    Document(page_content=': 97\\nReview_Date: 21 July 2023\\nAuthor: MrDHWong\\nRating: 9\\nReview_Title: A darkly satirical look at gender structure in society\\nReview: \"Barbie\" is a comedy film based on the line of fashion dolls by Mattel. Directed and co-written by Greta Gerwig (\"Lady Bird\", \"Little Women\") and starring Margot Robbie and Ryan Gosling, it takes every opportunity to revel in its amusing premise with a darkly satirical look at gender structure in society.\\nReview_Url: /review/rw9199947/?ref_=tt_urv', metadata={'source': '\"Barbie\" is a comedy film based on the line of fashion dolls by Mattel. Directed and co-written by Greta Gerwig (\"Lady Bird\", \"Little Women\") and starring Margot Robbie and Ryan Gosling, it takes every opportunity to revel in its amusing premise with a darkly satirical look at gender structure in society.', 'row': 97})])]}"
      ]
     },
     "execution_count": 11,
     "metadata": {},
     "output_type": "execute_result"
    }
   ],
   "source": [
    "barbie_retriever_agent_executor({\"input\" : \"Did people like Barbie, or did they find it too Philosphical? If they did, can you tell me why the movie is so Philosophical?\"})"
   ]
  },
  {
   "cell_type": "code",
   "execution_count": 26,
   "metadata": {},
   "outputs": [
    {
     "name": "stdout",
     "output_type": "stream",
     "text": [
      "\n",
      "\n",
      "\u001b[1m> Entering new AgentExecutor chain...\u001b[0m\n",
      "\u001b[32;1m\u001b[1;3m\n",
      "Invoking: `Search_Wikipedia` with `Barbie`\n",
      "\n",
      "\n",
      "\u001b[0m\u001b[36;1m\u001b[1;3m[Document(page_content='== Plot ==\\nStereotypical Barbie (\"Barbie\") and fellow dolls reside in Barbieland; a matriarchal society with different variations of Barbies, Kens, and a group of discontinued models, who are treated like outcasts due to their unconventional traits. While the Kens spend their days playing at the beach, considering it as their profession, the Barbies hold prestigious jobs such as doctors, lawyers, and politicians. Beach Ken (\"Ken\") is only happy when he is with Barbie and seeks a closer relationship, but Barbie rebuffs him in favor of other activities and female friendships.\\nAt a dance party, Barbie is suddenly stricken with worries about mortality. Overnight, she develops bad breath, cellulite, and flat feet, disrupting her usual routines the next day. Weird Barbie, an outcast due to her disfigurement, tells her she must find the child playing with her in the real world to cure her afflictions. Ken stows away in her convertible hoping to join her on the journey, to which Barbie reluctantly agrees.', metadata={'title': 'Barbie (film)', 'summary': 'Barbie is a 2023 American fantasy comedy film directed by Greta Gerwig from a screenplay she wrote with Noah Baumbach. Based on the Barbie fashion dolls by Mattel, it is the first live-action Barbie film after numerous computer-animated films and specials. The film follows Barbie (Margot Robbie) and Ken (Ryan Gosling) on a journey of self-discovery following an existential crisis. It features an ensemble supporting cast, including America Ferrera, Kate McKinnon, Helen Mirren, Issa Rae, Simu Liu, Michael Cera, Rhea Perlman, and Will Ferrell.\\nA live-action Barbie film was announced in September 2009 by Universal Pictures with Laurence Mark producing. Development began in April 2014, when Sony Pictures acquired the film rights. Following multiple writer and director changes and the casting of Amy Schumer and later Anne Hathaway as Barbie, the rights were transferred to Warner Bros. Pictures in October 2018. Robbie was cast in 2019, after Gal Gadot turned down the role due to scheduling conflicts, and Gerwig was announced as director and co-writer with Baumbach in 2020. The rest of the cast were announced in early 2022. Filming took place primarily at Warner Bros. Studios, Leavesden, in England and on the Venice Beach Skatepark in Los Angeles from March to July 2022.\\nBarbie premiered at the Shrine Auditorium in Los Angeles on July 9, 2023, and was theatrically released in the United States on July 21 by Warner Bros. Pictures. Its simultaneous release with Universal\\'s Oppenheimer led to the \"Barbenheimer\" cultural phenomenon, which encouraged audiences to see both films as a double feature. The film received critical acclaim and has grossed $1.279 billion worldwide, becoming the second highest-grossing film of 2023, as well as the highest-grossing film directed solely by a woman and the 21st highest-grossing film of all-time.\\n\\n', 'source': 'https://en.wikipedia.org/wiki/Barbie_(film)'}), Document(page_content=\"Arriving at Venice Beach, Barbie punches a man for groping her, leading to her and Ken's brief arrest. Alarmed by their presence, Mattel's CEO orders their recapture. Barbie tracks down her owner, a tween girl named Sasha, who criticizes her for encouraging unrealistic beauty standards. Distraught, Barbie discovers that Gloria, a Mattel employee and Sasha's mother, inadvertently catalyzed her existential crisis after Gloria began playing with Sasha's old Barbie toys in a similar state. Mattel attempts to put Barbie in a toy box for remanufacturing, but she escapes with Gloria and Sasha's help and the three travel to Barbieland with Mattel executives in pursuit.\", metadata={'title': 'Barbie (film)', 'summary': 'Barbie is a 2023 American fantasy comedy film directed by Greta Gerwig from a screenplay she wrote with Noah Baumbach. Based on the Barbie fashion dolls by Mattel, it is the first live-action Barbie film after numerous computer-animated films and specials. The film follows Barbie (Margot Robbie) and Ken (Ryan Gosling) on a journey of self-discovery following an existential crisis. It features an ensemble supporting cast, including America Ferrera, Kate McKinnon, Helen Mirren, Issa Rae, Simu Liu, Michael Cera, Rhea Perlman, and Will Ferrell.\\nA live-action Barbie film was announced in September 2009 by Universal Pictures with Laurence Mark producing. Development began in April 2014, when Sony Pictures acquired the film rights. Following multiple writer and director changes and the casting of Amy Schumer and later Anne Hathaway as Barbie, the rights were transferred to Warner Bros. Pictures in October 2018. Robbie was cast in 2019, after Gal Gadot turned down the role due to scheduling conflicts, and Gerwig was announced as director and co-writer with Baumbach in 2020. The rest of the cast were announced in early 2022. Filming took place primarily at Warner Bros. Studios, Leavesden, in England and on the Venice Beach Skatepark in Los Angeles from March to July 2022.\\nBarbie premiered at the Shrine Auditorium in Los Angeles on July 9, 2023, and was theatrically released in the United States on July 21 by Warner Bros. Pictures. Its simultaneous release with Universal\\'s Oppenheimer led to the \"Barbenheimer\" cultural phenomenon, which encouraged audiences to see both films as a double feature. The film received critical acclaim and has grossed $1.279 billion worldwide, becoming the second highest-grossing film of 2023, as well as the highest-grossing film directed solely by a woman and the 21st highest-grossing film of all-time.\\n\\n', 'source': 'https://en.wikipedia.org/wiki/Barbie_(film)'})]\u001b[0m"
     ]
    }
   ],
   "source": [
    "barbie_retriever_agent_executor({\"input\" : \"What is a very quick summary of the plot of the Barbie movie?\"})"
   ]
  },
  {
   "cell_type": "markdown",
   "metadata": {},
   "source": [
    "### Oppenheimer Retrieval System\n",
    "\n",
    "We're going to repourpose some of what we created previously, but this time we'll explore a different multi-source retrieval system."
   ]
  },
  {
   "cell_type": "code",
   "execution_count": 19,
   "metadata": {},
   "outputs": [],
   "source": [
    "oppenheimer_wikipedia_docs = WikipediaLoader( \n",
    "    query= \"Oppenheimer\", ### YOUR CODE HERE\n",
    "    load_max_docs=1, ### YOUR CODE HERE\n",
    "    doc_content_chars_max=10000000 ### YOUR CODE HERE\n",
    ").load()\n",
    "\n",
    "oppenheimer_csv_docs = CSVLoader( \n",
    "    file_path= \"./oppenheimer_data/oppenheimer.csv\", ### YOUR CODE HERE\n",
    "    source_column=\"Review\" ### YOUR CODE HERE\n",
    ").load()"
   ]
  },
  {
   "cell_type": "code",
   "execution_count": 20,
   "metadata": {},
   "outputs": [],
   "source": [
    "chunked_opp_wikipedia_docs = wikipedia_text_splitter.transform_documents(oppenheimer_wikipedia_docs) ### YOUR CODE HERE\n",
    "chunked_opp_csv_docs = csv_text_splitter.transform_documents(oppenheimer_csv_docs) ### YOUR CODE HERE"
   ]
  },
  {
   "cell_type": "code",
   "execution_count": 24,
   "metadata": {},
   "outputs": [],
   "source": [
    "opp_csv_faiss_retriever = FAISS.from_documents(chunked_opp_csv_docs, embedder) ### YOUR CODE HERE\n",
    "opp_csv_faiss_retriever = opp_csv_faiss_retriever.as_retriever() ### MY CODE HERE\n",
    "\n",
    "# set up BM25 retriever\n",
    "opp_wikipedia_bm25_retriever = BM25Retriever.from_documents(chunked_opp_wikipedia_docs) ### YOUR CODE HERE\n",
    "opp_wikipedia_bm25_retriever.k = 1\n",
    "\n",
    "# set up FAISS vector store\n",
    "opp_wikipedia_faiss_store = FAISS.from_documents(\n",
    "    chunked_opp_wikipedia_docs, ### YOUR CODE HERE\n",
    "    embedder  ### YOUR CODE HERE\n",
    ") \n",
    "opp_wikipedia_faiss_retriever = opp_wikipedia_faiss_store.as_retriever(search_kwargs={\"k\": 1})\n",
    "\n",
    "# set up ensemble retriever\n",
    "opp_ensemble_retriever = EnsembleRetriever(\n",
    "    retrievers=[opp_wikipedia_bm25_retriever, opp_wikipedia_faiss_retriever], ### YOUR CODE HERE,\n",
    "    weights= [0.25, 0.75] # should sum to 1 ### YOUR CODE HERE\n",
    ")"
   ]
  },
  {
   "cell_type": "markdown",
   "metadata": {},
   "source": [
    "#### Multi-source chain\n",
    "\n",
    "We're going to allow the LLM to decide which information is most -> least valuable.\n",
    "\n",
    "The way we'll do this is with LangChain's rather powerful \"Expression Language\"!\n",
    "\n",
    "> HINT: You can leverage [this](https://python.langchain.com/docs/use_cases/question_answering/how_to/multiple_retrieval) resource if you get stuck - but experiment with different prompts/formats."
   ]
  },
  {
   "cell_type": "code",
   "execution_count": null,
   "metadata": {},
   "outputs": [],
   "source": [
    "from langchain.prompts import ChatPromptTemplate\n",
    "\n",
    "system_message = \"\"\"Use the information from the below two sources to answer any questions.\n",
    "\n",
    "Source 1: public user reviews about the Oppenheimer movie\n",
    "<source1>\n",
    "{source1}\n",
    "</source1>\n",
    "\n",
    "Source 2: the wikipedia page for the Oppenheimer movie including the plot summary, cast, and production information\n",
    "<source2>\n",
    "{source2}\n",
    "</source2>\n",
    "\"\"\"\n",
    "\n",
    "prompt = ChatPromptTemplate.from_messages([(\"system\", system_message), (\"human\", \"{question}\")])"
   ]
  },
  {
   "cell_type": "code",
   "execution_count": null,
   "metadata": {},
   "outputs": [],
   "source": [
    "oppenheimer_multisource_chain = {\n",
    "    \"source1\": (lambda x: x[\"question\"]) | opp_ensemble_retriever,\n",
    "    \"source2\": (lambda x: x[\"question\"]) | opp_csv_faiss_retriever,\n",
    "    \"question\": lambda x: x[\"question\"],\n",
    "} | prompt | llm"
   ]
  },
  {
   "cell_type": "code",
   "execution_count": null,
   "metadata": {},
   "outputs": [],
   "source": [
    "oppenheimer_multisource_chain.invoke({\"question\" : \"What did people think of the Oppenheimer movie?\"})"
   ]
  },
  {
   "cell_type": "markdown",
   "metadata": {},
   "source": [
    "# Agent Creation\n",
    "\n",
    "Now we can finally start building our Agent!\n",
    "\n",
    "The first thing we'll need to do is provide our Agent a Toolbelt. (list of tools). Much like Batman, our LLM-powered Agent can use these tools as it sees fit. \n",
    "\n",
    "While the examples we're constructing in this notebook are straightforward for brevity and simplicities sake - there is no limit to what you can build with Agents, as we'll see as we progress through the program.\n",
    "\n",
    "So, let's begin by setting up our Tools!\n",
    "\n",
    "You'll notice that we have to set up a function to allow our `OppenheimerInfo` tool to interface with the Agent - this is due to it have a specific required input. Creating custom tools is a pattern that you'll want to grow acustomed to as you use LangChain more and more."
   ]
  },
  {
   "cell_type": "code",
   "execution_count": null,
   "metadata": {},
   "outputs": [],
   "source": [
    "from langchain.agents import Tool\n",
    "\n",
    "def query_oppenheimer(input):\n",
    "    return oppenheimer_multisource_chain.invoke({\"question\" : input})\n",
    "\n",
    "tools = [\n",
    "    Tool(\n",
    "        name = ### YOUR CODE HERE,\n",
    "        func=### YOUR CODE HERE,\n",
    "        description=### YOUR CODE HERE\n",
    "    ),\n",
    "    Tool(\n",
    "        name = ### YOUR CODE HERE,\n",
    "        func= ### YOUR CODE HERE,\n",
    "        description= ### YOUR CODE HERE\n",
    "    ),\n",
    "]"
   ]
  },
  {
   "cell_type": "markdown",
   "metadata": {},
   "source": [
    "Now that we've set up our Agents toolbelt, let's set up the LLM that will be powering it!\n",
    "\n",
    "I would suggest playing around with these prompts - and experiments to find what works best for you.\n",
    "\n",
    "RELEVANT DOCS:\n",
    "- [`ZeroShotAgent`](https://api.python.langchain.com/en/latest/agents/langchain.agents.mrkl.base.ZeroShotAgent.html#langchain-agents-mrkl-base-zeroshotagent)"
   ]
  },
  {
   "cell_type": "code",
   "execution_count": null,
   "metadata": {},
   "outputs": [],
   "source": [
    "from langchain.agents import ZeroShotAgent, AgentExecutor\n",
    "\n",
    "prefix = \"\"\"Have a conversation with a human, answering the following questions as best you can. You have access to the following tools:\"\"\"\n",
    "suffix = \"\"\"Begin!\"\n",
    "\n",
    "Question: {input}\n",
    "{agent_scratchpad}\"\"\"\n",
    "\n",
    "prompt = ZeroShotAgent.create_prompt(\n",
    "    ### YOUR CODE HERE\n",
    "    ### YOUR CODE HERE\n",
    "    ### YOUR CODE HERE\n",
    "    ### YOUR CODE HERE\n",
    ")"
   ]
  },
  {
   "cell_type": "code",
   "execution_count": null,
   "metadata": {},
   "outputs": [],
   "source": [
    "from langchain import LLMChain\n",
    "\n",
    "llm_chain = ### YOUR CODE HERE"
   ]
  },
  {
   "cell_type": "markdown",
   "metadata": {},
   "source": [
    "All that's left to do now is create our `ZeroShotAgent` and our `AgentExecutor`, which are the \"reasoner\" and \"actor\" halfs of the `ReAct` method of Agent implementation.\n",
    "\n",
    "Read all about the `ReAct` framework [here](https://react-lm.github.io/)"
   ]
  },
  {
   "cell_type": "code",
   "execution_count": null,
   "metadata": {},
   "outputs": [],
   "source": [
    "barbenheimer_agent = ZeroShotAgent(\n",
    "    llm_chain=### YOUR AGENTS, \n",
    "    tools=### YOUR AGENTS, \n",
    "    verbose=### YOUR AGENTS)\n",
    "\n",
    "barbenheimer_agent_chain = AgentExecutor.from_agent_and_tools(\n",
    "    agent=### YOUR AGENTS, \n",
    "    tools=### YOUR AGENTS, \n",
    "    verbose=### YOUR AGENTS)"
   ]
  },
  {
   "cell_type": "markdown",
   "metadata": {},
   "source": [
    "## Conclusion\n",
    "\n",
    "All that is left to do now, is feed inputs to your Agent and watch it work!\n",
    "\n",
    "Remember to use the `{\"input\" : \"YOUR QUERY HERE\"}` format when prompting the Agent."
   ]
  },
  {
   "cell_type": "code",
   "execution_count": null,
   "metadata": {},
   "outputs": [],
   "source": [
    "barbenheimer_agent_chain.invoke({\"input\" : \"What did people like about the Barbie movie?\"})"
   ]
  },
  {
   "cell_type": "code",
   "execution_count": null,
   "metadata": {},
   "outputs": [],
   "source": [
    "barbenheimer_agent_chain.run({\"input\" : \"What did people like about the Oppenheimer movie?\"})"
   ]
  },
  {
   "cell_type": "code",
   "execution_count": null,
   "metadata": {},
   "outputs": [],
   "source": [
    "barbenheimer_agent_chain.run({\"input\" : \"Did the movies Barbie and Oppenheimer share similar themes or ideas?\"})"
   ]
  },
  {
   "cell_type": "markdown",
   "metadata": {},
   "source": [
    "## Next Steps\n",
    "\n",
    "It's time to build a Chainlit (or Gradio) application and host it on Hugging Face Spaces! :ship:"
   ]
  }
 ],
 "metadata": {
  "kernelspec": {
   "display_name": "barbenheimer-week-1",
   "language": "python",
   "name": "python3"
  },
  "language_info": {
   "codemirror_mode": {
    "name": "ipython",
    "version": 3
   },
   "file_extension": ".py",
   "mimetype": "text/x-python",
   "name": "python",
   "nbconvert_exporter": "python",
   "pygments_lexer": "ipython3",
   "version": "3.11.3"
  },
  "orig_nbformat": 4
 },
 "nbformat": 4,
 "nbformat_minor": 2
}
